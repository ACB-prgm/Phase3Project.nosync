{
 "cells": [
  {
   "attachments": {},
   "cell_type": "markdown",
   "metadata": {},
   "source": [
    "Name: Aaron Bastian"
   ]
  },
  {
   "attachments": {},
   "cell_type": "markdown",
   "metadata": {},
   "source": [
    "## Data\n",
    "#### Source: \n",
    "[Kaggle Link](https://www.kaggle.com/competitions/online-purchase-prediction/data?select=shop_train.csv)\n",
    "\n",
    "#### Description:\n",
    "Each row represents a visit to an online store.  The following are the column/feature descriptions:\n",
    "\n",
    "`admin_pages`, `info_pages`, `product_pages` - number of pages in different categories visited by the user  \n",
    "`admin_seconds`, `info_seconds`, `product_seconds` - time spent by the user on different page categories  \n",
    "`page_value`, `bounce_rate`, `quit_rate` - numbers from Google Analytics  \n",
    "`is_holiday` - the proximity of important days for retail (such as the New Year)  \n",
    "`month` - month (categorical variable)  \n",
    "`operating_system_id`, `browser_id`, `region_id`, `traffic_type_id` are also categorical variables, although they are written as numbers  \n",
    "`is_new_visitor`, `is_weekend` - binary signs  \n",
    "`has_purchase` - binary attribute, target variable. It is he who needs to learn to predict.  "
   ]
  },
  {
   "cell_type": "code",
   "execution_count": 15,
   "metadata": {},
   "outputs": [],
   "source": [
    "import numpy as np\n",
    "import pandas as pd"
   ]
  },
  {
   "cell_type": "code",
   "execution_count": 16,
   "metadata": {},
   "outputs": [
    {
     "name": "stdout",
     "output_type": "stream",
     "text": [
      "<class 'pandas.core.frame.DataFrame'>\n",
      "RangeIndex: 6165 entries, 0 to 6164\n",
      "Data columns (total 18 columns):\n",
      " #   Column               Non-Null Count  Dtype  \n",
      "---  ------               --------------  -----  \n",
      " 0   admin_pages          6165 non-null   int64  \n",
      " 1   admin_seconds        6165 non-null   float64\n",
      " 2   info_pages           6165 non-null   int64  \n",
      " 3   info_seconds         6165 non-null   float64\n",
      " 4   product_pages        6165 non-null   int64  \n",
      " 5   product_seconds      6165 non-null   float64\n",
      " 6   bounce_rate          6165 non-null   float64\n",
      " 7   quit_rate            6165 non-null   float64\n",
      " 8   page_value           6165 non-null   float64\n",
      " 9   is_holiday           6165 non-null   float64\n",
      " 10  month                6165 non-null   object \n",
      " 11  operating_system_id  6165 non-null   int64  \n",
      " 12  browser_id           6165 non-null   int64  \n",
      " 13  region_id            6165 non-null   int64  \n",
      " 14  traffic_type_id      6165 non-null   int64  \n",
      " 15  is_new_visitor       6165 non-null   int64  \n",
      " 16  is_weekend           6165 non-null   int64  \n",
      " 17  has_purchase         6165 non-null   int64  \n",
      "dtypes: float64(7), int64(10), object(1)\n",
      "memory usage: 867.1+ KB\n"
     ]
    }
   ],
   "source": [
    "# load the data and check data types\n",
    "train_df = pd.read_csv(\"Data/shop_train.csv\")\n",
    "\n",
    "train_df.info()"
   ]
  },
  {
   "cell_type": "code",
   "execution_count": 17,
   "metadata": {},
   "outputs": [
    {
     "data": {
      "text/html": [
       "<div>\n",
       "<style scoped>\n",
       "    .dataframe tbody tr th:only-of-type {\n",
       "        vertical-align: middle;\n",
       "    }\n",
       "\n",
       "    .dataframe tbody tr th {\n",
       "        vertical-align: top;\n",
       "    }\n",
       "\n",
       "    .dataframe thead th {\n",
       "        text-align: right;\n",
       "    }\n",
       "</style>\n",
       "<table border=\"1\" class=\"dataframe\">\n",
       "  <thead>\n",
       "    <tr style=\"text-align: right;\">\n",
       "      <th></th>\n",
       "      <th>admin_pages</th>\n",
       "      <th>admin_seconds</th>\n",
       "      <th>info_pages</th>\n",
       "      <th>info_seconds</th>\n",
       "      <th>product_pages</th>\n",
       "      <th>product_seconds</th>\n",
       "      <th>bounce_rate</th>\n",
       "      <th>quit_rate</th>\n",
       "      <th>page_value</th>\n",
       "      <th>is_holiday</th>\n",
       "      <th>operating_system_id</th>\n",
       "      <th>browser_id</th>\n",
       "      <th>region_id</th>\n",
       "      <th>traffic_type_id</th>\n",
       "      <th>is_new_visitor</th>\n",
       "      <th>is_weekend</th>\n",
       "      <th>has_purchase</th>\n",
       "    </tr>\n",
       "  </thead>\n",
       "  <tbody>\n",
       "    <tr>\n",
       "      <th>count</th>\n",
       "      <td>6165.000000</td>\n",
       "      <td>6165.000000</td>\n",
       "      <td>6165.000000</td>\n",
       "      <td>6165.000000</td>\n",
       "      <td>6165.000000</td>\n",
       "      <td>6165.000000</td>\n",
       "      <td>6165.000000</td>\n",
       "      <td>6165.000000</td>\n",
       "      <td>6165.000000</td>\n",
       "      <td>6165.000000</td>\n",
       "      <td>6165.000000</td>\n",
       "      <td>6165.000000</td>\n",
       "      <td>6165.000000</td>\n",
       "      <td>6165.000000</td>\n",
       "      <td>6165.000000</td>\n",
       "      <td>6165.000000</td>\n",
       "      <td>6165.000000</td>\n",
       "    </tr>\n",
       "    <tr>\n",
       "      <th>mean</th>\n",
       "      <td>2.335280</td>\n",
       "      <td>80.852833</td>\n",
       "      <td>0.507867</td>\n",
       "      <td>33.280329</td>\n",
       "      <td>32.408273</td>\n",
       "      <td>1208.587423</td>\n",
       "      <td>0.021689</td>\n",
       "      <td>0.042682</td>\n",
       "      <td>5.937796</td>\n",
       "      <td>0.060697</td>\n",
       "      <td>2.122952</td>\n",
       "      <td>2.392863</td>\n",
       "      <td>3.086456</td>\n",
       "      <td>4.074615</td>\n",
       "      <td>0.133658</td>\n",
       "      <td>0.230170</td>\n",
       "      <td>0.154745</td>\n",
       "    </tr>\n",
       "    <tr>\n",
       "      <th>std</th>\n",
       "      <td>3.356446</td>\n",
       "      <td>175.414952</td>\n",
       "      <td>1.272868</td>\n",
       "      <td>134.065358</td>\n",
       "      <td>45.243435</td>\n",
       "      <td>1810.567652</td>\n",
       "      <td>0.047605</td>\n",
       "      <td>0.047973</td>\n",
       "      <td>18.211659</td>\n",
       "      <td>0.198423</td>\n",
       "      <td>0.906463</td>\n",
       "      <td>1.787116</td>\n",
       "      <td>2.377666</td>\n",
       "      <td>4.054737</td>\n",
       "      <td>0.340312</td>\n",
       "      <td>0.420976</td>\n",
       "      <td>0.361690</td>\n",
       "    </tr>\n",
       "    <tr>\n",
       "      <th>min</th>\n",
       "      <td>0.000000</td>\n",
       "      <td>0.000000</td>\n",
       "      <td>0.000000</td>\n",
       "      <td>0.000000</td>\n",
       "      <td>0.000000</td>\n",
       "      <td>0.000000</td>\n",
       "      <td>0.000000</td>\n",
       "      <td>0.000000</td>\n",
       "      <td>0.000000</td>\n",
       "      <td>0.000000</td>\n",
       "      <td>1.000000</td>\n",
       "      <td>1.000000</td>\n",
       "      <td>1.000000</td>\n",
       "      <td>1.000000</td>\n",
       "      <td>0.000000</td>\n",
       "      <td>0.000000</td>\n",
       "      <td>0.000000</td>\n",
       "    </tr>\n",
       "    <tr>\n",
       "      <th>25%</th>\n",
       "      <td>0.000000</td>\n",
       "      <td>0.000000</td>\n",
       "      <td>0.000000</td>\n",
       "      <td>0.000000</td>\n",
       "      <td>7.000000</td>\n",
       "      <td>191.000000</td>\n",
       "      <td>0.000000</td>\n",
       "      <td>0.014196</td>\n",
       "      <td>0.000000</td>\n",
       "      <td>0.000000</td>\n",
       "      <td>2.000000</td>\n",
       "      <td>2.000000</td>\n",
       "      <td>1.000000</td>\n",
       "      <td>2.000000</td>\n",
       "      <td>0.000000</td>\n",
       "      <td>0.000000</td>\n",
       "      <td>0.000000</td>\n",
       "    </tr>\n",
       "    <tr>\n",
       "      <th>50%</th>\n",
       "      <td>1.000000</td>\n",
       "      <td>7.600000</td>\n",
       "      <td>0.000000</td>\n",
       "      <td>0.000000</td>\n",
       "      <td>18.000000</td>\n",
       "      <td>608.883333</td>\n",
       "      <td>0.003188</td>\n",
       "      <td>0.025492</td>\n",
       "      <td>0.000000</td>\n",
       "      <td>0.000000</td>\n",
       "      <td>2.000000</td>\n",
       "      <td>2.000000</td>\n",
       "      <td>3.000000</td>\n",
       "      <td>2.000000</td>\n",
       "      <td>0.000000</td>\n",
       "      <td>0.000000</td>\n",
       "      <td>0.000000</td>\n",
       "    </tr>\n",
       "    <tr>\n",
       "      <th>75%</th>\n",
       "      <td>4.000000</td>\n",
       "      <td>93.300000</td>\n",
       "      <td>0.000000</td>\n",
       "      <td>0.000000</td>\n",
       "      <td>38.000000</td>\n",
       "      <td>1503.250000</td>\n",
       "      <td>0.016667</td>\n",
       "      <td>0.050000</td>\n",
       "      <td>0.000000</td>\n",
       "      <td>0.000000</td>\n",
       "      <td>3.000000</td>\n",
       "      <td>2.000000</td>\n",
       "      <td>4.000000</td>\n",
       "      <td>4.000000</td>\n",
       "      <td>0.000000</td>\n",
       "      <td>0.000000</td>\n",
       "      <td>0.000000</td>\n",
       "    </tr>\n",
       "    <tr>\n",
       "      <th>max</th>\n",
       "      <td>27.000000</td>\n",
       "      <td>2720.500000</td>\n",
       "      <td>16.000000</td>\n",
       "      <td>2256.916667</td>\n",
       "      <td>686.000000</td>\n",
       "      <td>24844.156200</td>\n",
       "      <td>0.200000</td>\n",
       "      <td>0.200000</td>\n",
       "      <td>360.953384</td>\n",
       "      <td>1.000000</td>\n",
       "      <td>8.000000</td>\n",
       "      <td>13.000000</td>\n",
       "      <td>9.000000</td>\n",
       "      <td>20.000000</td>\n",
       "      <td>1.000000</td>\n",
       "      <td>1.000000</td>\n",
       "      <td>1.000000</td>\n",
       "    </tr>\n",
       "  </tbody>\n",
       "</table>\n",
       "</div>"
      ],
      "text/plain": [
       "       admin_pages  admin_seconds  ...   is_weekend  has_purchase\n",
       "count  6165.000000    6165.000000  ...  6165.000000   6165.000000\n",
       "mean      2.335280      80.852833  ...     0.230170      0.154745\n",
       "std       3.356446     175.414952  ...     0.420976      0.361690\n",
       "min       0.000000       0.000000  ...     0.000000      0.000000\n",
       "25%       0.000000       0.000000  ...     0.000000      0.000000\n",
       "50%       1.000000       7.600000  ...     0.000000      0.000000\n",
       "75%       4.000000      93.300000  ...     0.000000      0.000000\n",
       "max      27.000000    2720.500000  ...     1.000000      1.000000\n",
       "\n",
       "[8 rows x 17 columns]"
      ]
     },
     "execution_count": 17,
     "metadata": {},
     "output_type": "execute_result"
    }
   ],
   "source": [
    "train_df.describe() # Look at general data distributions, size, and noise."
   ]
  },
  {
   "cell_type": "code",
   "execution_count": 18,
   "metadata": {},
   "outputs": [
    {
     "data": {
      "text/html": [
       "<div>\n",
       "<style scoped>\n",
       "    .dataframe tbody tr th:only-of-type {\n",
       "        vertical-align: middle;\n",
       "    }\n",
       "\n",
       "    .dataframe tbody tr th {\n",
       "        vertical-align: top;\n",
       "    }\n",
       "\n",
       "    .dataframe thead th {\n",
       "        text-align: right;\n",
       "    }\n",
       "</style>\n",
       "<table border=\"1\" class=\"dataframe\">\n",
       "  <thead>\n",
       "    <tr style=\"text-align: right;\">\n",
       "      <th></th>\n",
       "      <th>admin_pages</th>\n",
       "      <th>admin_seconds</th>\n",
       "      <th>info_pages</th>\n",
       "      <th>info_seconds</th>\n",
       "      <th>product_pages</th>\n",
       "      <th>product_seconds</th>\n",
       "      <th>bounce_rate</th>\n",
       "      <th>quit_rate</th>\n",
       "      <th>page_value</th>\n",
       "      <th>is_holiday</th>\n",
       "      <th>month</th>\n",
       "      <th>operating_system_id</th>\n",
       "      <th>browser_id</th>\n",
       "      <th>region_id</th>\n",
       "      <th>traffic_type_id</th>\n",
       "      <th>is_new_visitor</th>\n",
       "      <th>is_weekend</th>\n",
       "      <th>has_purchase</th>\n",
       "    </tr>\n",
       "  </thead>\n",
       "  <tbody>\n",
       "    <tr>\n",
       "      <th>0</th>\n",
       "      <td>0</td>\n",
       "      <td>0.000000</td>\n",
       "      <td>0</td>\n",
       "      <td>0.0</td>\n",
       "      <td>8</td>\n",
       "      <td>335.000000</td>\n",
       "      <td>0.025000</td>\n",
       "      <td>0.050000</td>\n",
       "      <td>63.891000</td>\n",
       "      <td>0.0</td>\n",
       "      <td>May</td>\n",
       "      <td>3</td>\n",
       "      <td>2</td>\n",
       "      <td>4</td>\n",
       "      <td>1</td>\n",
       "      <td>0</td>\n",
       "      <td>0</td>\n",
       "      <td>1</td>\n",
       "    </tr>\n",
       "    <tr>\n",
       "      <th>11</th>\n",
       "      <td>3</td>\n",
       "      <td>80.000000</td>\n",
       "      <td>1</td>\n",
       "      <td>21.0</td>\n",
       "      <td>41</td>\n",
       "      <td>1193.333333</td>\n",
       "      <td>0.000976</td>\n",
       "      <td>0.018049</td>\n",
       "      <td>6.530049</td>\n",
       "      <td>0.0</td>\n",
       "      <td>May</td>\n",
       "      <td>2</td>\n",
       "      <td>2</td>\n",
       "      <td>1</td>\n",
       "      <td>4</td>\n",
       "      <td>0</td>\n",
       "      <td>0</td>\n",
       "      <td>0</td>\n",
       "    </tr>\n",
       "    <tr>\n",
       "      <th>17</th>\n",
       "      <td>0</td>\n",
       "      <td>0.000000</td>\n",
       "      <td>1</td>\n",
       "      <td>9.0</td>\n",
       "      <td>30</td>\n",
       "      <td>1992.833333</td>\n",
       "      <td>0.000000</td>\n",
       "      <td>0.003333</td>\n",
       "      <td>9.227001</td>\n",
       "      <td>0.0</td>\n",
       "      <td>Mar</td>\n",
       "      <td>2</td>\n",
       "      <td>4</td>\n",
       "      <td>1</td>\n",
       "      <td>3</td>\n",
       "      <td>0</td>\n",
       "      <td>0</td>\n",
       "      <td>1</td>\n",
       "    </tr>\n",
       "    <tr>\n",
       "      <th>32</th>\n",
       "      <td>6</td>\n",
       "      <td>71.200000</td>\n",
       "      <td>0</td>\n",
       "      <td>0.0</td>\n",
       "      <td>101</td>\n",
       "      <td>3800.089234</td>\n",
       "      <td>0.003883</td>\n",
       "      <td>0.024032</td>\n",
       "      <td>3.179064</td>\n",
       "      <td>0.0</td>\n",
       "      <td>Nov</td>\n",
       "      <td>1</td>\n",
       "      <td>1</td>\n",
       "      <td>3</td>\n",
       "      <td>1</td>\n",
       "      <td>0</td>\n",
       "      <td>0</td>\n",
       "      <td>1</td>\n",
       "    </tr>\n",
       "    <tr>\n",
       "      <th>44</th>\n",
       "      <td>5</td>\n",
       "      <td>169.975000</td>\n",
       "      <td>3</td>\n",
       "      <td>106.0</td>\n",
       "      <td>90</td>\n",
       "      <td>4792.380767</td>\n",
       "      <td>0.004167</td>\n",
       "      <td>0.007479</td>\n",
       "      <td>41.558020</td>\n",
       "      <td>0.0</td>\n",
       "      <td>Nov</td>\n",
       "      <td>3</td>\n",
       "      <td>2</td>\n",
       "      <td>6</td>\n",
       "      <td>1</td>\n",
       "      <td>0</td>\n",
       "      <td>0</td>\n",
       "      <td>1</td>\n",
       "    </tr>\n",
       "    <tr>\n",
       "      <th>...</th>\n",
       "      <td>...</td>\n",
       "      <td>...</td>\n",
       "      <td>...</td>\n",
       "      <td>...</td>\n",
       "      <td>...</td>\n",
       "      <td>...</td>\n",
       "      <td>...</td>\n",
       "      <td>...</td>\n",
       "      <td>...</td>\n",
       "      <td>...</td>\n",
       "      <td>...</td>\n",
       "      <td>...</td>\n",
       "      <td>...</td>\n",
       "      <td>...</td>\n",
       "      <td>...</td>\n",
       "      <td>...</td>\n",
       "      <td>...</td>\n",
       "      <td>...</td>\n",
       "    </tr>\n",
       "    <tr>\n",
       "      <th>6148</th>\n",
       "      <td>4</td>\n",
       "      <td>102.555556</td>\n",
       "      <td>2</td>\n",
       "      <td>79.5</td>\n",
       "      <td>133</td>\n",
       "      <td>3713.580105</td>\n",
       "      <td>0.003382</td>\n",
       "      <td>0.015890</td>\n",
       "      <td>28.037960</td>\n",
       "      <td>0.0</td>\n",
       "      <td>Nov</td>\n",
       "      <td>3</td>\n",
       "      <td>2</td>\n",
       "      <td>1</td>\n",
       "      <td>6</td>\n",
       "      <td>0</td>\n",
       "      <td>1</td>\n",
       "      <td>0</td>\n",
       "    </tr>\n",
       "    <tr>\n",
       "      <th>6152</th>\n",
       "      <td>0</td>\n",
       "      <td>0.000000</td>\n",
       "      <td>0</td>\n",
       "      <td>0.0</td>\n",
       "      <td>32</td>\n",
       "      <td>999.000000</td>\n",
       "      <td>0.000000</td>\n",
       "      <td>0.013441</td>\n",
       "      <td>9.053082</td>\n",
       "      <td>0.0</td>\n",
       "      <td>Mar</td>\n",
       "      <td>1</td>\n",
       "      <td>1</td>\n",
       "      <td>1</td>\n",
       "      <td>1</td>\n",
       "      <td>0</td>\n",
       "      <td>0</td>\n",
       "      <td>1</td>\n",
       "    </tr>\n",
       "    <tr>\n",
       "      <th>6153</th>\n",
       "      <td>1</td>\n",
       "      <td>36.000000</td>\n",
       "      <td>0</td>\n",
       "      <td>0.0</td>\n",
       "      <td>17</td>\n",
       "      <td>538.287879</td>\n",
       "      <td>0.000000</td>\n",
       "      <td>0.017708</td>\n",
       "      <td>18.370625</td>\n",
       "      <td>0.0</td>\n",
       "      <td>May</td>\n",
       "      <td>1</td>\n",
       "      <td>1</td>\n",
       "      <td>1</td>\n",
       "      <td>4</td>\n",
       "      <td>0</td>\n",
       "      <td>0</td>\n",
       "      <td>0</td>\n",
       "    </tr>\n",
       "    <tr>\n",
       "      <th>6159</th>\n",
       "      <td>0</td>\n",
       "      <td>0.000000</td>\n",
       "      <td>0</td>\n",
       "      <td>0.0</td>\n",
       "      <td>16</td>\n",
       "      <td>853.416667</td>\n",
       "      <td>0.013333</td>\n",
       "      <td>0.037778</td>\n",
       "      <td>50.814180</td>\n",
       "      <td>0.0</td>\n",
       "      <td>Dec</td>\n",
       "      <td>1</td>\n",
       "      <td>1</td>\n",
       "      <td>7</td>\n",
       "      <td>2</td>\n",
       "      <td>1</td>\n",
       "      <td>0</td>\n",
       "      <td>1</td>\n",
       "    </tr>\n",
       "    <tr>\n",
       "      <th>6163</th>\n",
       "      <td>10</td>\n",
       "      <td>511.500000</td>\n",
       "      <td>4</td>\n",
       "      <td>164.0</td>\n",
       "      <td>73</td>\n",
       "      <td>2490.138095</td>\n",
       "      <td>0.000000</td>\n",
       "      <td>0.010366</td>\n",
       "      <td>30.092813</td>\n",
       "      <td>0.0</td>\n",
       "      <td>Mar</td>\n",
       "      <td>2</td>\n",
       "      <td>2</td>\n",
       "      <td>7</td>\n",
       "      <td>2</td>\n",
       "      <td>0</td>\n",
       "      <td>0</td>\n",
       "      <td>0</td>\n",
       "    </tr>\n",
       "  </tbody>\n",
       "</table>\n",
       "<p>1407 rows × 18 columns</p>\n",
       "</div>"
      ],
      "text/plain": [
       "      admin_pages  admin_seconds  ...  is_weekend  has_purchase\n",
       "0               0       0.000000  ...           0             1\n",
       "11              3      80.000000  ...           0             0\n",
       "17              0       0.000000  ...           0             1\n",
       "32              6      71.200000  ...           0             1\n",
       "44              5     169.975000  ...           0             1\n",
       "...           ...            ...  ...         ...           ...\n",
       "6148            4     102.555556  ...           1             0\n",
       "6152            0       0.000000  ...           0             1\n",
       "6153            1      36.000000  ...           0             0\n",
       "6159            0       0.000000  ...           0             1\n",
       "6163           10     511.500000  ...           0             0\n",
       "\n",
       "[1407 rows x 18 columns]"
      ]
     },
     "execution_count": 18,
     "metadata": {},
     "output_type": "execute_result"
    }
   ],
   "source": [
    "train_df[train_df.page_value > 0]"
   ]
  },
  {
   "attachments": {},
   "cell_type": "markdown",
   "metadata": {},
   "source": [
    "Our target variable will be `has_purchase`.  This is of course heavily skewed as most users will not purchase anything, and in this case it appears that about 15.5% of users made purchases (we can use the mean because it is a binary variable).  Thus, our target accuracy will be >84.5%, which is what a model could achieve by simply predicting 0 (no purchase) for eveything.  I will also be utilizing Ensemble methods for my classifier, as they are more resistant to skew and overfitting by wieghting their internal models.  In particular, I will use the `XGBClassifier` class from `xgboost`."
   ]
  },
  {
   "cell_type": "code",
   "execution_count": 19,
   "metadata": {},
   "outputs": [
    {
     "data": {
      "text/plain": [
       "(0    0.845339\n",
       " 1    0.154661\n",
       " Name: has_purchase, dtype: float64,\n",
       " 0    0.845006\n",
       " 1    0.154994\n",
       " Name: has_purchase, dtype: float64)"
      ]
     },
     "execution_count": 19,
     "metadata": {},
     "output_type": "execute_result"
    }
   ],
   "source": [
    "from sklearn.model_selection import train_test_split\n",
    "\n",
    "X = train_df.drop(\"has_purchase\", axis=1)\n",
    "y = train_df.has_purchase\n",
    "\n",
    "X_train, X_valid, y_train, y_valid = train_test_split(X, y, stratify=y, random_state=69)\n",
    "\n",
    "y_train.value_counts(normalize=True), y_valid.value_counts(normalize=True)"
   ]
  },
  {
   "attachments": {},
   "cell_type": "markdown",
   "metadata": {},
   "source": [
    "`month` is a string value representing the month.  I will transform this to a continuous integer column with a custom `FunctionTransformer` so the classifiers can interpret it.  I am making it continuous rather than categorical because there is an inherent order to the months of the year."
   ]
  },
  {
   "cell_type": "code",
   "execution_count": 10,
   "metadata": {},
   "outputs": [],
   "source": [
    "from sklearn.preprocessing import FunctionTransformer\n",
    "\n",
    "\n",
    "month_dict = {\"jan\": 1, \"feb\": 2, \"mar\": 3, \"apr\": 4, \"may\": 5, \"jun\": 6,\"jul\": 7, \"aug\": 8, \"sep\": 9, \"oct\": 10, \"nov\": 11, \"dec\": 12}\n",
    "\n",
    "\n",
    "def custom(old_df):\n",
    "    new_df = old_df.copy()\n",
    "    new_df.month = new_df.month.apply(str.lower).map(month_dict)\n",
    "\n",
    "    new_df[\"total_time\"] = new_df[[\"admin_seconds\", \"info_seconds\", \"product_seconds\"]].sum(axis=1)\n",
    "    new_df[\"avg_time\"] = new_df.total_time / 3\n",
    "\n",
    "    return new_df\n",
    "\n",
    "custom_transformer = FunctionTransformer(custom)"
   ]
  },
  {
   "attachments": {},
   "cell_type": "markdown",
   "metadata": {},
   "source": [
    "As the data is also not on the same scale, I will scale it using the `StandardScaler`.  This will also help to reduce some of the noise in the data.  I will also create a pipeline that transforms the month variable, scales the data, and then fits to the xgb classifier to make the code more conscise and changes more clear."
   ]
  },
  {
   "cell_type": "code",
   "execution_count": 7,
   "metadata": {},
   "outputs": [],
   "source": [
    "from sklearn.pipeline import Pipeline\n",
    "from sklearn.preprocessing import StandardScaler\n",
    "from xgboost import XGBClassifier\n",
    "\n",
    "steps = [\n",
    "    (\"month_trans\", custom_transformer),\n",
    "    (\"scaler\", StandardScaler()),\n",
    "    (\"xgboost\", XGBClassifier())\n",
    "]\n",
    "\n",
    "pipe = Pipeline(steps)"
   ]
  },
  {
   "cell_type": "code",
   "execution_count": 8,
   "metadata": {},
   "outputs": [
    {
     "data": {
      "text/html": [
       "<style>#sk-container-id-1 {color: black;background-color: white;}#sk-container-id-1 pre{padding: 0;}#sk-container-id-1 div.sk-toggleable {background-color: white;}#sk-container-id-1 label.sk-toggleable__label {cursor: pointer;display: block;width: 100%;margin-bottom: 0;padding: 0.3em;box-sizing: border-box;text-align: center;}#sk-container-id-1 label.sk-toggleable__label-arrow:before {content: \"▸\";float: left;margin-right: 0.25em;color: #696969;}#sk-container-id-1 label.sk-toggleable__label-arrow:hover:before {color: black;}#sk-container-id-1 div.sk-estimator:hover label.sk-toggleable__label-arrow:before {color: black;}#sk-container-id-1 div.sk-toggleable__content {max-height: 0;max-width: 0;overflow: hidden;text-align: left;background-color: #f0f8ff;}#sk-container-id-1 div.sk-toggleable__content pre {margin: 0.2em;color: black;border-radius: 0.25em;background-color: #f0f8ff;}#sk-container-id-1 input.sk-toggleable__control:checked~div.sk-toggleable__content {max-height: 200px;max-width: 100%;overflow: auto;}#sk-container-id-1 input.sk-toggleable__control:checked~label.sk-toggleable__label-arrow:before {content: \"▾\";}#sk-container-id-1 div.sk-estimator input.sk-toggleable__control:checked~label.sk-toggleable__label {background-color: #d4ebff;}#sk-container-id-1 div.sk-label input.sk-toggleable__control:checked~label.sk-toggleable__label {background-color: #d4ebff;}#sk-container-id-1 input.sk-hidden--visually {border: 0;clip: rect(1px 1px 1px 1px);clip: rect(1px, 1px, 1px, 1px);height: 1px;margin: -1px;overflow: hidden;padding: 0;position: absolute;width: 1px;}#sk-container-id-1 div.sk-estimator {font-family: monospace;background-color: #f0f8ff;border: 1px dotted black;border-radius: 0.25em;box-sizing: border-box;margin-bottom: 0.5em;}#sk-container-id-1 div.sk-estimator:hover {background-color: #d4ebff;}#sk-container-id-1 div.sk-parallel-item::after {content: \"\";width: 100%;border-bottom: 1px solid gray;flex-grow: 1;}#sk-container-id-1 div.sk-label:hover label.sk-toggleable__label {background-color: #d4ebff;}#sk-container-id-1 div.sk-serial::before {content: \"\";position: absolute;border-left: 1px solid gray;box-sizing: border-box;top: 0;bottom: 0;left: 50%;z-index: 0;}#sk-container-id-1 div.sk-serial {display: flex;flex-direction: column;align-items: center;background-color: white;padding-right: 0.2em;padding-left: 0.2em;position: relative;}#sk-container-id-1 div.sk-item {position: relative;z-index: 1;}#sk-container-id-1 div.sk-parallel {display: flex;align-items: stretch;justify-content: center;background-color: white;position: relative;}#sk-container-id-1 div.sk-item::before, #sk-container-id-1 div.sk-parallel-item::before {content: \"\";position: absolute;border-left: 1px solid gray;box-sizing: border-box;top: 0;bottom: 0;left: 50%;z-index: -1;}#sk-container-id-1 div.sk-parallel-item {display: flex;flex-direction: column;z-index: 1;position: relative;background-color: white;}#sk-container-id-1 div.sk-parallel-item:first-child::after {align-self: flex-end;width: 50%;}#sk-container-id-1 div.sk-parallel-item:last-child::after {align-self: flex-start;width: 50%;}#sk-container-id-1 div.sk-parallel-item:only-child::after {width: 0;}#sk-container-id-1 div.sk-dashed-wrapped {border: 1px dashed gray;margin: 0 0.4em 0.5em 0.4em;box-sizing: border-box;padding-bottom: 0.4em;background-color: white;}#sk-container-id-1 div.sk-label label {font-family: monospace;font-weight: bold;display: inline-block;line-height: 1.2em;}#sk-container-id-1 div.sk-label-container {text-align: center;}#sk-container-id-1 div.sk-container {/* jupyter's `normalize.less` sets `[hidden] { display: none; }` but bootstrap.min.css set `[hidden] { display: none !important; }` so we also need the `!important` here to be able to override the default hidden behavior on the sphinx rendered scikit-learn.org. See: https://github.com/scikit-learn/scikit-learn/issues/21755 */display: inline-block !important;position: relative;}#sk-container-id-1 div.sk-text-repr-fallback {display: none;}</style><div id=\"sk-container-id-1\" class=\"sk-top-container\"><div class=\"sk-text-repr-fallback\"><pre>Pipeline(steps=[(&#x27;month_trans&#x27;,\n",
       "                 FunctionTransformer(func=&lt;function custom at 0x12ec57e20&gt;)),\n",
       "                (&#x27;scaler&#x27;, StandardScaler()),\n",
       "                (&#x27;xgboost&#x27;,\n",
       "                 XGBClassifier(base_score=None, booster=None, callbacks=None,\n",
       "                               colsample_bylevel=None, colsample_bynode=None,\n",
       "                               colsample_bytree=None,\n",
       "                               early_stopping_rounds=None,\n",
       "                               enable_categorical=False, eval_metric=None,\n",
       "                               feature_types=None, gamma=None...e,\n",
       "                               grow_policy=None, importance_type=None,\n",
       "                               interaction_constraints=None, learning_rate=None,\n",
       "                               max_bin=None, max_cat_threshold=None,\n",
       "                               max_cat_to_onehot=None, max_delta_step=None,\n",
       "                               max_depth=None, max_leaves=None,\n",
       "                               min_child_weight=None, missing=nan,\n",
       "                               monotone_constraints=None, n_estimators=100,\n",
       "                               n_jobs=None, num_parallel_tree=None,\n",
       "                               predictor=None, random_state=None, ...))])</pre><b>In a Jupyter environment, please rerun this cell to show the HTML representation or trust the notebook. <br />On GitHub, the HTML representation is unable to render, please try loading this page with nbviewer.org.</b></div><div class=\"sk-container\" hidden><div class=\"sk-item sk-dashed-wrapped\"><div class=\"sk-label-container\"><div class=\"sk-label sk-toggleable\"><input class=\"sk-toggleable__control sk-hidden--visually\" id=\"sk-estimator-id-1\" type=\"checkbox\" ><label for=\"sk-estimator-id-1\" class=\"sk-toggleable__label sk-toggleable__label-arrow\">Pipeline</label><div class=\"sk-toggleable__content\"><pre>Pipeline(steps=[(&#x27;month_trans&#x27;,\n",
       "                 FunctionTransformer(func=&lt;function custom at 0x12ec57e20&gt;)),\n",
       "                (&#x27;scaler&#x27;, StandardScaler()),\n",
       "                (&#x27;xgboost&#x27;,\n",
       "                 XGBClassifier(base_score=None, booster=None, callbacks=None,\n",
       "                               colsample_bylevel=None, colsample_bynode=None,\n",
       "                               colsample_bytree=None,\n",
       "                               early_stopping_rounds=None,\n",
       "                               enable_categorical=False, eval_metric=None,\n",
       "                               feature_types=None, gamma=None...e,\n",
       "                               grow_policy=None, importance_type=None,\n",
       "                               interaction_constraints=None, learning_rate=None,\n",
       "                               max_bin=None, max_cat_threshold=None,\n",
       "                               max_cat_to_onehot=None, max_delta_step=None,\n",
       "                               max_depth=None, max_leaves=None,\n",
       "                               min_child_weight=None, missing=nan,\n",
       "                               monotone_constraints=None, n_estimators=100,\n",
       "                               n_jobs=None, num_parallel_tree=None,\n",
       "                               predictor=None, random_state=None, ...))])</pre></div></div></div><div class=\"sk-serial\"><div class=\"sk-item\"><div class=\"sk-estimator sk-toggleable\"><input class=\"sk-toggleable__control sk-hidden--visually\" id=\"sk-estimator-id-2\" type=\"checkbox\" ><label for=\"sk-estimator-id-2\" class=\"sk-toggleable__label sk-toggleable__label-arrow\">FunctionTransformer</label><div class=\"sk-toggleable__content\"><pre>FunctionTransformer(func=&lt;function custom at 0x12ec57e20&gt;)</pre></div></div></div><div class=\"sk-item\"><div class=\"sk-estimator sk-toggleable\"><input class=\"sk-toggleable__control sk-hidden--visually\" id=\"sk-estimator-id-3\" type=\"checkbox\" ><label for=\"sk-estimator-id-3\" class=\"sk-toggleable__label sk-toggleable__label-arrow\">StandardScaler</label><div class=\"sk-toggleable__content\"><pre>StandardScaler()</pre></div></div></div><div class=\"sk-item\"><div class=\"sk-estimator sk-toggleable\"><input class=\"sk-toggleable__control sk-hidden--visually\" id=\"sk-estimator-id-4\" type=\"checkbox\" ><label for=\"sk-estimator-id-4\" class=\"sk-toggleable__label sk-toggleable__label-arrow\">XGBClassifier</label><div class=\"sk-toggleable__content\"><pre>XGBClassifier(base_score=None, booster=None, callbacks=None,\n",
       "              colsample_bylevel=None, colsample_bynode=None,\n",
       "              colsample_bytree=None, early_stopping_rounds=None,\n",
       "              enable_categorical=False, eval_metric=None, feature_types=None,\n",
       "              gamma=None, gpu_id=None, grow_policy=None, importance_type=None,\n",
       "              interaction_constraints=None, learning_rate=None, max_bin=None,\n",
       "              max_cat_threshold=None, max_cat_to_onehot=None,\n",
       "              max_delta_step=None, max_depth=None, max_leaves=None,\n",
       "              min_child_weight=None, missing=nan, monotone_constraints=None,\n",
       "              n_estimators=100, n_jobs=None, num_parallel_tree=None,\n",
       "              predictor=None, random_state=None, ...)</pre></div></div></div></div></div></div></div>"
      ],
      "text/plain": [
       "Pipeline(steps=[('month_trans',\n",
       "                 FunctionTransformer(func=<function custom at 0x12ec57e20>)),\n",
       "                ('scaler', StandardScaler()),\n",
       "                ('xgboost',\n",
       "                 XGBClassifier(base_score=None, booster=None, callbacks=None,\n",
       "                               colsample_bylevel=None, colsample_bynode=None,\n",
       "                               colsample_bytree=None,\n",
       "                               early_stopping_rounds=None,\n",
       "                               enable_categorical=False, eval_metric=None,\n",
       "                               feature_types=None, gamma=None...e,\n",
       "                               grow_policy=None, importance_type=None,\n",
       "                               interaction_constraints=None, learning_rate=None,\n",
       "                               max_bin=None, max_cat_threshold=None,\n",
       "                               max_cat_to_onehot=None, max_delta_step=None,\n",
       "                               max_depth=None, max_leaves=None,\n",
       "                               min_child_weight=None, missing=nan,\n",
       "                               monotone_constraints=None, n_estimators=100,\n",
       "                               n_jobs=None, num_parallel_tree=None,\n",
       "                               predictor=None, random_state=None, ...))])"
      ]
     },
     "execution_count": 8,
     "metadata": {},
     "output_type": "execute_result"
    }
   ],
   "source": [
    "pipe.fit(X_train, y_train)"
   ]
  },
  {
   "attachments": {},
   "cell_type": "markdown",
   "metadata": {},
   "source": [
    "I make a simple function `analyze_model` that takes a sklearn model or pipeline as an input and prints out some relevant metrics for analyzing model performance.  \n",
    "I have chosen the following markers:  \n",
    "1. **Accuracy** : Mostly to look for overfitting, but also to compare to the benchmark accuracy.\n",
    "2. **F1-Score** : Because target precision and recall are both important for the business case.\n",
    "3. **ROC_AUC** : For a similar reason as using F1, it's insensitive to the imbalance and it's robust to the different costs of false negatives and false positives.\n",
    "4. **Confusion Matrix** : To visualize the the distribution of error types."
   ]
  },
  {
   "cell_type": "code",
   "execution_count": 9,
   "metadata": {},
   "outputs": [
    {
     "name": "stdout",
     "output_type": "stream",
     "text": [
      "Training Acc:  0.9984858317110101\n",
      "Training F1:  0.9950808151791989\n",
      "Training AUC:  0.9951048951048951\n",
      "\n",
      "Validation Acc:  0.8942931258106356\n",
      "Validation F1:  0.6270022883295194\n",
      "Validation AUC:  0.7632033575559459\n",
      "Validation Precision:  0.6919191919191919\n"
     ]
    },
    {
     "data": {
      "image/png": "[encoded data removed]",
      "text/plain": [
       "<Figure size 640x480 with 2 Axes>"
      ]
     },
     "metadata": {},
     "output_type": "display_data"
    }
   ],
   "source": [
    "from sklearn.metrics import accuracy_score, f1_score, precision_score, ConfusionMatrixDisplay, confusion_matrix, roc_auc_score\n",
    "import matplotlib.pyplot as plt\n",
    "\n",
    "def analyze_model(model) -> None:\n",
    "\n",
    "    train_preds = model.predict(X_train)\n",
    "    valid_preds = model.predict(X_valid)\n",
    "\n",
    "    print(\"Training Acc: \", accuracy_score(y_train, train_preds))\n",
    "    print(\"Training F1: \", f1_score(y_train, train_preds))\n",
    "    print(\"Training AUC: \", roc_auc_score(y_train, train_preds))\n",
    "    print()\n",
    "    print(\"Validation Acc: \", accuracy_score(y_valid, valid_preds))\n",
    "    print(\"Validation F1: \", f1_score(y_valid, valid_preds))\n",
    "    print(\"Validation AUC: \", roc_auc_score(y_valid, valid_preds))\n",
    "    print(\"Validation Precision: \", precision_score(y_valid, valid_preds))\n",
    "\n",
    "    disp = ConfusionMatrixDisplay(confusion_matrix=confusion_matrix(y_valid, valid_preds, labels=model.classes_), display_labels=[\"No Purchase\", \"Purchase\"])\n",
    "    disp.plot()\n",
    "    plt.show()\n",
    "\n",
    "analyze_model(pipe)\n"
   ]
  },
  {
   "attachments": {},
   "cell_type": "markdown",
   "metadata": {},
   "source": [
    "Not bad.  We are already outperforming our benchmark of 84.5% Accuracy, but we can do better.  It appears that we are overfitting our data, as we have a near perfect accuracy on out training data and signifficantly lower accuracy on our Validation data (11%), and our F1 and AUC fall drastically in the validation data.  I will tune the pipeline/model hyperparameters to do this, using a grid search cross validation as the dataset is not too large and there are only three hyperparameters I would like to tune.  \n",
    "1 and 2: `n_estimators` (default is 100) and `max_depth` (default is 6) | To reduce overfitting  \n",
    "3: `scale_pos_weight` (default 1) | to balance the weight of the positive class (minority class)  \n",
    "\n",
    "[docs](https://xgboost.readthedocs.io/en/stable/parameter.html)"
   ]
  },
  {
   "cell_type": "code",
   "execution_count": 32,
   "metadata": {},
   "outputs": [],
   "source": [
    "import timeit\n",
    "\n",
    "def esitmate_gridsearch_time(model, param_grid:dict, cv:int=5):\n",
    "    times = []\n",
    "    for _ in range(5):\n",
    "        start = timeit.default_timer()\n",
    "        model.fit(X_train, y_train)\n",
    "        model.score(X_train, y_train)\n",
    "        times.append(timeit.default_timer() - start)\n",
    "\n",
    "    processors = 6\n",
    "    single_train_time = np.array(times).mean() # seconds\n",
    "\n",
    "    combos = 1\n",
    "    for vals in param_grid.values():\n",
    "        combos *= len(vals)\n",
    "\n",
    "    num_models = combos * cv / processors\n",
    "    seconds = num_models * single_train_time\n",
    "    minutes = seconds / 60\n",
    "    hours = minutes / 60\n",
    "\n",
    "    hours, minutes, seconds"
   ]
  },
  {
   "cell_type": "code",
   "execution_count": 10,
   "metadata": {},
   "outputs": [
    {
     "data": {
      "text/plain": [
       "{'xgb__max_depth': 2, 'xgb__n_estimators': 50, 'xgb__scale_pos_weight': 3}"
      ]
     },
     "execution_count": 10,
     "metadata": {},
     "output_type": "execute_result"
    }
   ],
   "source": [
    "from sklearn.model_selection import GridSearchCV\n",
    "\n",
    "pipe_2 = Pipeline([\n",
    "    (\"custom_transformer\", custom_transformer),\n",
    "    (\"scaler\", StandardScaler()),\n",
    "    (\"xgb\", XGBClassifier())\n",
    "])\n",
    "\n",
    "param_grid = {\n",
    "    \"xgb__max_depth\": [2, 3, 5, 6],\n",
    "    \"xgb__n_estimators\" : [50, 75, 100],\n",
    "    \"xgb__scale_pos_weight\" : [1, 2, 3, 5]\n",
    "}\n",
    "\n",
    "grid_search = GridSearchCV(pipe_2, param_grid, cv=5, scoring=\"f1\")\n",
    "grid_search.fit(X_train, y_train)\n",
    "\n",
    "grid_search.best_params_"
   ]
  },
  {
   "attachments": {},
   "cell_type": "markdown",
   "metadata": {},
   "source": [
    "The Grid search revealed that we should decrease our `max_depth` to 2 and our `n_estimators` to 50.  This makes sense as setting both of these parameters too high can lead to high variance and overfitting.  It also said to keep the weight scale at the default value of 1 which is suprising."
   ]
  },
  {
   "cell_type": "code",
   "execution_count": 11,
   "metadata": {},
   "outputs": [
    {
     "name": "stdout",
     "output_type": "stream",
     "text": [
      "Training Acc:  0.890979883192732\n",
      "Training F1:  0.6960193003618818\n",
      "Training AUC:  0.8566694820021329\n",
      "\n",
      "Validation Acc:  0.8852140077821011\n",
      "Validation F1:  0.6856127886323268\n",
      "Validation AUC:  0.8534970794786412\n",
      "Validation Precision:  0.595679012345679\n"
     ]
    },
    {
     "data": {
      "image/png": "[encoded data removed]",
      "text/plain": [
       "<Figure size 640x480 with 2 Axes>"
      ]
     },
     "metadata": {},
     "output_type": "display_data"
    }
   ],
   "source": [
    "pipe_2 = Pipeline([\n",
    "    (\"custom_transformer\", custom_transformer),\n",
    "    (\"scaler\", StandardScaler()),\n",
    "    (\"xgb\", XGBClassifier())\n",
    "])\n",
    "\n",
    "pipe_2.set_params(**grid_search.best_params_)   # unpacks the dict object into an array of params\n",
    "\n",
    "pipe_2.fit(X_train, y_train)\n",
    "\n",
    "analyze_model(pipe_2)"
   ]
  },
  {
   "attachments": {},
   "cell_type": "markdown",
   "metadata": {},
   "source": [
    "A Validation accuracy of 90% which is only a 0.4% increase from our baseline model, but our F1 and AUC are also higher and more evenly spread between the training and validation models."
   ]
  },
  {
   "attachments": {},
   "cell_type": "markdown",
   "metadata": {},
   "source": [
    "Here is a simple function that formats the model predictions for Kaggle submission and exports to a provided file."
   ]
  },
  {
   "cell_type": "code",
   "execution_count": 12,
   "metadata": {},
   "outputs": [],
   "source": [
    "final_X = pd.read_csv(\"Data/shop_test.csv\")\n",
    "\n",
    "def create_submission(model, out_file_name:str):\n",
    "    test_preds = model.predict_proba(final_X)[:,1]\n",
    "    sub = pd.DataFrame(test_preds, columns=[\"prediction\"])\n",
    "    sub[\"id\"] = sub.index\n",
    "    sub.to_csv(out_file_name, index=False)\n",
    "\n",
    "create_submission(pipe_2, \"XGB_sub.csv\")"
   ]
  },
  {
   "attachments": {},
   "cell_type": "markdown",
   "metadata": {},
   "source": [
    "The submissions for the Kaggle competition required the predicitons to be in the form of probabilities so they could calculate the ROC as the evaluation metric.  I recieved a final score of 93.45."
   ]
  },
  {
   "attachments": {},
   "cell_type": "markdown",
   "metadata": {},
   "source": [
    "Finally, I wanted to try using the Light GBM classifier from Microsoft, as it tends to outperform XGBoost and is much faster.  I will construct the pipeline the same way as before, substituting the `XGBClassifier` for an `LGBMClassifier`."
   ]
  },
  {
   "cell_type": "code",
   "execution_count": 13,
   "metadata": {},
   "outputs": [
    {
     "name": "stdout",
     "output_type": "stream",
     "text": [
      "Training Acc:  0.9074194246160502\n",
      "Training F1:  0.6666666666666666\n",
      "Training AUC:  0.7812607811840155\n",
      "\n",
      "Validation Acc:  0.9007782101167315\n",
      "Validation F1:  0.6382978723404256\n",
      "Validation AUC:  0.7636240153877276\n",
      "Validation Precision:  0.7336956521739131\n"
     ]
    },
    {
     "data": {
      "image/png": "[encoded data removed]",
      "text/plain": [
       "<Figure size 640x480 with 2 Axes>"
      ]
     },
     "metadata": {},
     "output_type": "display_data"
    }
   ],
   "source": [
    "# Create baseline lgbm model\n",
    "from lightgbm import LGBMClassifier\n",
    "\n",
    "pipe_3 = Pipeline([\n",
    "    (\"custom_transformer\", custom_transformer),\n",
    "    (\"scaler\", StandardScaler()),\n",
    "    (\"lgb\", LGBMClassifier())\n",
    "])\n",
    "\n",
    "pipe_3.set_params(**{'lgb__max_depth': 2, 'lgb__n_estimators': 50, 'lgb__scale_pos_weight': 1})\n",
    "\n",
    "pipe_3.fit(X_train, y_train)\n",
    "\n",
    "analyze_model(pipe_3)"
   ]
  },
  {
   "cell_type": "code",
   "execution_count": 20,
   "metadata": {},
   "outputs": [
    {
     "data": {
      "text/plain": [
       "{'lgb__max_depth': 3, 'lgb__n_estimators': 50, 'lgb__scale_pos_weight': 2}"
      ]
     },
     "execution_count": 20,
     "metadata": {},
     "output_type": "execute_result"
    }
   ],
   "source": [
    "# Grid search\n",
    "pipe_3 = Pipeline([\n",
    "    (\"custom_transformer\", custom_transformer),\n",
    "    (\"scaler\", StandardScaler()),\n",
    "    (\"lgb\", LGBMClassifier())\n",
    "])\n",
    "\n",
    "param_grid = {\n",
    "    \"lgb__max_depth\": [2, 3, 5, 6],\n",
    "    \"lgb__n_estimators\" : [50, 75, 100],\n",
    "    \"lgb__scale_pos_weight\" : [1, 2, 3, 5]\n",
    "}\n",
    "\n",
    "grid_search = GridSearchCV(pipe_3, param_grid, cv=5, scoring=\"f1\", n_jobs=-1)\n",
    "grid_search.fit(X_train, y_train)\n",
    "\n",
    "grid_search.best_params_"
   ]
  },
  {
   "cell_type": "code",
   "execution_count": 21,
   "metadata": {},
   "outputs": [
    {
     "name": "stdout",
     "output_type": "stream",
     "text": [
      "Training Acc:  0.9024443002379408\n",
      "Training F1:  0.7030941408821593\n",
      "Training AUC:  0.8388820493733492\n",
      "\n",
      "Validation Acc:  0.893644617380026\n",
      "Validation F1:  0.6870229007633588\n",
      "Validation AUC:  0.8362774029677249\n",
      "Validation Precision:  0.631578947368421\n"
     ]
    },
    {
     "data": {
      "image/png": "[encoded data removed]",
      "text/plain": [
       "<Figure size 640x480 with 2 Axes>"
      ]
     },
     "metadata": {},
     "output_type": "display_data"
    }
   ],
   "source": [
    "pipe_3 = Pipeline([\n",
    "    (\"custom_transformer\", custom_transformer),\n",
    "    (\"scaler\", StandardScaler()),\n",
    "    (\"lgb\", LGBMClassifier())\n",
    "])\n",
    "\n",
    "pipe_3.set_params(**grid_search.best_params_)\n",
    "\n",
    "pipe_3.fit(X_train, y_train)\n",
    "\n",
    "analyze_model(pipe_3)"
   ]
  },
  {
   "cell_type": "code",
   "execution_count": 23,
   "metadata": {},
   "outputs": [],
   "source": [
    "test_preds = pipe_3.predict_proba(final_X)[:,1]\n",
    "\n",
    "sub = pd.DataFrame(test_preds, columns=[\"prediction\"])\n",
    "sub[\"id\"] = sub.index\n",
    "sub.to_csv(\"lgbm_submission.csv\", index=False)"
   ]
  },
  {
   "attachments": {},
   "cell_type": "markdown",
   "metadata": {},
   "source": [
    "Though the LGBM model had slightly lower accuracy, it had a significantly higher F1-Score and AUC-ROC, and much lower Type 1 and 2 Errors.  Upon submitting these predictions to Kaggle, I recieved a final score of 93.76."
   ]
  },
  {
   "cell_type": "code",
   "execution_count": 55,
   "metadata": {},
   "outputs": [
    {
     "name": "stdout",
     "output_type": "stream",
     "text": [
      "['Admin Pages', 'Admin Seconds', 'Info Pages', 'Info Seconds', 'Product Pages', 'Product Seconds', 'Page Value', 'Is Holiday', 'Month', 'Operating System Id', 'Browser Id', 'Region Id', 'Traffic Type Id', 'Is New Visitor', 'Is Weekend', 'Total Time', 'Avg Time']\n",
      "[ 9 11 18 13 16  3  2  4 12 15 17 14  0  5  1  6  7  8 10]\n"
     ]
    },
    {
     "ename": "IndexError",
     "evalue": "index 18 is out of bounds for axis 0 with size 17",
     "output_type": "error",
     "traceback": [
      "\u001b[0;31m---------------------------------------------------------------------------\u001b[0m",
      "\u001b[0;31mIndexError\u001b[0m                                Traceback (most recent call last)",
      "Cell \u001b[0;32mIn [55], line 11\u001b[0m\n\u001b[1;32m      9\u001b[0m fig \u001b[39m=\u001b[39m plt\u001b[39m.\u001b[39mfigure(figsize\u001b[39m=\u001b[39m(\u001b[39m12\u001b[39m, \u001b[39m12\u001b[39m))\n\u001b[1;32m     10\u001b[0m plt\u001b[39m.\u001b[39mbarh(\u001b[39mrange\u001b[39m(\u001b[39mlen\u001b[39m(sorted_idx)), feature_importance[sorted_idx], align\u001b[39m=\u001b[39m\u001b[39m'\u001b[39m\u001b[39mcenter\u001b[39m\u001b[39m'\u001b[39m)\n\u001b[0;32m---> 11\u001b[0m plt\u001b[39m.\u001b[39myticks(\u001b[39mrange\u001b[39m(\u001b[39mlen\u001b[39m(sorted_idx)), np\u001b[39m.\u001b[39;49marray(feature_names)[sorted_idx])\n\u001b[1;32m     12\u001b[0m plt\u001b[39m.\u001b[39mtitle(\u001b[39m'\u001b[39m\u001b[39mFeature Importance\u001b[39m\u001b[39m'\u001b[39m)\n\u001b[1;32m     13\u001b[0m plt\u001b[39m.\u001b[39mshow()\n",
      "\u001b[0;31mIndexError\u001b[0m: index 18 is out of bounds for axis 0 with size 17"
     ]
    },
    {
     "data": {
      "image/png": "[encoded data removed]",
      "text/plain": [
       "<Figure size 1200x1200 with 1 Axes>"
      ]
     },
     "metadata": {},
     "output_type": "display_data"
    }
   ],
   "source": [
    "feature_names = [col.replace(\"_\", \" \").title() for col in custom(X_valid).columns if not col in [\"bounce_rate\", \"quit_rate\"]]\n",
    "print(feature_names)\n",
    "\n",
    "feature_importance = pipe_3[-1].feature_importances_\n",
    "# feature_importance = np.delete(np.flip(np.sort(feature_importance)), [1, 2])\n",
    "\n",
    "sorted_idx = np.argsort(feature_importance)\n",
    "print(sorted_idx)\n",
    "fig = plt.figure(figsize=(12, 12))\n",
    "plt.barh(range(len(sorted_idx)), feature_importance[sorted_idx], align='center')\n",
    "plt.yticks(range(len(sorted_idx)), np.array(feature_names)[sorted_idx])\n",
    "plt.title('Feature Importance')\n",
    "plt.show()"
   ]
  },
  {
   "cell_type": "code",
   "execution_count": 63,
   "metadata": {},
   "outputs": [
    {
     "data": {
      "text/plain": [
       "({'admin_pages': 17,\n",
       "  'admin_seconds': 22,\n",
       "  'info_pages': 7,\n",
       "  'info_seconds': 3,\n",
       "  'product_pages': 10,\n",
       "  'product_seconds': 20,\n",
       "  'page_value': 68,\n",
       "  'is_holiday': 0,\n",
       "  'month': 74,\n",
       "  'operating_system_id': 0,\n",
       "  'browser_id': 10,\n",
       "  'region_id': 2,\n",
       "  'traffic_type_id': 12,\n",
       "  'is_new_visitor': 11,\n",
       "  'is_weekend': 2,\n",
       "  'total_time': 12,\n",
       "  'avg_time': 0},\n",
       " dict_keys(['admin_pages', 'admin_seconds', 'info_pages', 'info_seconds', 'product_pages', 'product_seconds', 'page_value', 'is_holiday', 'month', 'operating_system_id', 'browser_id', 'region_id', 'traffic_type_id', 'is_new_visitor', 'is_weekend', 'total_time', 'avg_time']),\n",
       " dict_values([17, 22, 7, 3, 10, 20, 68, 0, 74, 0, 10, 2, 12, 11, 2, 12, 0]))"
      ]
     },
     "execution_count": 63,
     "metadata": {},
     "output_type": "execute_result"
    }
   ],
   "source": [
    "# from lightgbm import plot_importance\n",
    "\n",
    "model = pipe_3[-1]\n",
    "# plot_importance(model)\n",
    "\n",
    "feature_importances = dict(list(zip(custom(X_train).columns, model.feature_importances_)))\n",
    "del feature_importances[\"bounce_rate\"]\n",
    "del feature_importances[\"quit_rate\"]\n",
    "\n",
    "feature_importances, feature_importances.keys(), feature_importances.values()\n"
   ]
  },
  {
   "attachments": {},
   "cell_type": "markdown",
   "metadata": {},
   "source": [
    "## Business Use cases\n",
    "Targeted Marketing: The company could use the predictions to target their marketing efforts to users who are most likely to buy a product. For example, they could send personalized email campaigns or display targeted ads to these users.\n",
    "\n",
    "Dynamic Pricing: The company could use the predictions to adjust the prices of products based on a user's likelihood to purchase. For example, they could offer discounts or promotions to users who are less likely to buy a product, or charge more for users who are more likely to buy.\n",
    "\n",
    "Churn Prediction: The company could use the predictions to identify users who are at risk of not buying again and take actions to retain them. For example, they could send personalized emails with special offers or discounts to users who are at risk of not buying.\n",
    "\n",
    "Optimization: The company could use the predictions to optimize their website layout, design, and user experience to increase the likelihood of users buying products."
   ]
  },
  {
   "cell_type": "markdown",
   "metadata": {},
   "source": []
  },
  {
   "cell_type": "markdown",
   "metadata": {},
   "source": []
  }
 ],
 "metadata": {
  "kernelspec": {
   "display_name": "Python 3",
   "language": "python",
   "name": "python3"
  },
  "language_info": {
   "codemirror_mode": {
    "name": "ipython",
    "version": 3
   },
   "file_extension": ".py",
   "mimetype": "text/x-python",
   "name": "python",
   "nbconvert_exporter": "python",
   "pygments_lexer": "ipython3",
   "version": "3.10.9 (main, Dec 15 2022, 18:25:35) [Clang 14.0.0 (clang-1400.0.29.202)]"
  },
  "orig_nbformat": 4,
  "vscode": {
   "interpreter": {
    "hash": "aee8b7b246df8f9039afb4144a1f6fd8d2ca17a180786b69acc140d282b71a49"
   }
  }
 },
 "nbformat": 4,
 "nbformat_minor": 2
}
