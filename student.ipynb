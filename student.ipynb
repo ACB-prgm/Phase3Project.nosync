{
 "cells": [
  {
   "attachments": {},
   "cell_type": "markdown",
   "metadata": {},
   "source": [
    "Name: Aaron Bastian"
   ]
  },
  {
   "attachments": {},
   "cell_type": "markdown",
   "metadata": {},
   "source": [
    "## Data\n",
    "#### Source: \n",
    "[Kaggle Link](https://www.kaggle.com/competitions/online-purchase-prediction/data?select=shop_train.csv)\n",
    "\n",
    "#### Description:\n",
    "Each row represents a visit to an online store.  The following are the column/feature descriptions:\n",
    "\n",
    "`admin_pages`, `info_pages`, `product_pages` - number of pages in different categories visited by the user  \n",
    "`admin_seconds`, `info_seconds`, `product_seconds` - time spent by the user on different page categories  \n",
    "`bounce_rate`, `bounce_rate`, `quit_rate` - numbers from Google Analytics  \n",
    "`is_holiday` - the proximity of important days for retail (such as the New Year)  \n",
    "`month` - month (categorical variable)  \n",
    "`operating_system_id`, `browser_id`, `region_id`, `traffic_type_id` are also categorical variables, although they are written as numbers  \n",
    "`is_new_visitor`, `is_weekend` - binary signs  \n",
    "`has_purchase` - binary attribute, target variable. It is he who needs to learn to predict.  "
   ]
  },
  {
   "cell_type": "code",
   "execution_count": 1,
   "metadata": {},
   "outputs": [],
   "source": [
    "import numpy as np\n",
    "import pandas as pd"
   ]
  },
  {
   "cell_type": "code",
   "execution_count": 2,
   "metadata": {},
   "outputs": [
    {
     "name": "stdout",
     "output_type": "stream",
     "text": [
      "<class 'pandas.core.frame.DataFrame'>\n",
      "RangeIndex: 6165 entries, 0 to 6164\n",
      "Data columns (total 18 columns):\n",
      " #   Column               Non-Null Count  Dtype  \n",
      "---  ------               --------------  -----  \n",
      " 0   admin_pages          6165 non-null   int64  \n",
      " 1   admin_seconds        6165 non-null   float64\n",
      " 2   info_pages           6165 non-null   int64  \n",
      " 3   info_seconds         6165 non-null   float64\n",
      " 4   product_pages        6165 non-null   int64  \n",
      " 5   product_seconds      6165 non-null   float64\n",
      " 6   bounce_rate          6165 non-null   float64\n",
      " 7   quit_rate            6165 non-null   float64\n",
      " 8   page_value           6165 non-null   float64\n",
      " 9   is_holiday           6165 non-null   float64\n",
      " 10  month                6165 non-null   object \n",
      " 11  operating_system_id  6165 non-null   int64  \n",
      " 12  browser_id           6165 non-null   int64  \n",
      " 13  region_id            6165 non-null   int64  \n",
      " 14  traffic_type_id      6165 non-null   int64  \n",
      " 15  is_new_visitor       6165 non-null   int64  \n",
      " 16  is_weekend           6165 non-null   int64  \n",
      " 17  has_purchase         6165 non-null   int64  \n",
      "dtypes: float64(7), int64(10), object(1)\n",
      "memory usage: 867.1+ KB\n"
     ]
    }
   ],
   "source": [
    "# load the data and check data types\n",
    "train_df = pd.read_csv(\"Data/shop_train.csv\")\n",
    "\n",
    "train_df.info()"
   ]
  },
  {
   "cell_type": "code",
   "execution_count": 3,
   "metadata": {},
   "outputs": [
    {
     "data": {
      "text/html": [
       "<div>\n",
       "<style scoped>\n",
       "    .dataframe tbody tr th:only-of-type {\n",
       "        vertical-align: middle;\n",
       "    }\n",
       "\n",
       "    .dataframe tbody tr th {\n",
       "        vertical-align: top;\n",
       "    }\n",
       "\n",
       "    .dataframe thead th {\n",
       "        text-align: right;\n",
       "    }\n",
       "</style>\n",
       "<table border=\"1\" class=\"dataframe\">\n",
       "  <thead>\n",
       "    <tr style=\"text-align: right;\">\n",
       "      <th></th>\n",
       "      <th>admin_pages</th>\n",
       "      <th>admin_seconds</th>\n",
       "      <th>info_pages</th>\n",
       "      <th>info_seconds</th>\n",
       "      <th>product_pages</th>\n",
       "      <th>product_seconds</th>\n",
       "      <th>bounce_rate</th>\n",
       "      <th>quit_rate</th>\n",
       "      <th>page_value</th>\n",
       "      <th>is_holiday</th>\n",
       "      <th>operating_system_id</th>\n",
       "      <th>browser_id</th>\n",
       "      <th>region_id</th>\n",
       "      <th>traffic_type_id</th>\n",
       "      <th>is_new_visitor</th>\n",
       "      <th>is_weekend</th>\n",
       "      <th>has_purchase</th>\n",
       "    </tr>\n",
       "  </thead>\n",
       "  <tbody>\n",
       "    <tr>\n",
       "      <th>count</th>\n",
       "      <td>6165.000000</td>\n",
       "      <td>6165.000000</td>\n",
       "      <td>6165.000000</td>\n",
       "      <td>6165.000000</td>\n",
       "      <td>6165.000000</td>\n",
       "      <td>6165.000000</td>\n",
       "      <td>6165.000000</td>\n",
       "      <td>6165.000000</td>\n",
       "      <td>6165.000000</td>\n",
       "      <td>6165.000000</td>\n",
       "      <td>6165.000000</td>\n",
       "      <td>6165.000000</td>\n",
       "      <td>6165.000000</td>\n",
       "      <td>6165.000000</td>\n",
       "      <td>6165.000000</td>\n",
       "      <td>6165.000000</td>\n",
       "      <td>6165.000000</td>\n",
       "    </tr>\n",
       "    <tr>\n",
       "      <th>mean</th>\n",
       "      <td>2.335280</td>\n",
       "      <td>80.852833</td>\n",
       "      <td>0.507867</td>\n",
       "      <td>33.280329</td>\n",
       "      <td>32.408273</td>\n",
       "      <td>1208.587423</td>\n",
       "      <td>0.021689</td>\n",
       "      <td>0.042682</td>\n",
       "      <td>5.937796</td>\n",
       "      <td>0.060697</td>\n",
       "      <td>2.122952</td>\n",
       "      <td>2.392863</td>\n",
       "      <td>3.086456</td>\n",
       "      <td>4.074615</td>\n",
       "      <td>0.133658</td>\n",
       "      <td>0.230170</td>\n",
       "      <td>0.154745</td>\n",
       "    </tr>\n",
       "    <tr>\n",
       "      <th>std</th>\n",
       "      <td>3.356446</td>\n",
       "      <td>175.414952</td>\n",
       "      <td>1.272868</td>\n",
       "      <td>134.065358</td>\n",
       "      <td>45.243435</td>\n",
       "      <td>1810.567652</td>\n",
       "      <td>0.047605</td>\n",
       "      <td>0.047973</td>\n",
       "      <td>18.211659</td>\n",
       "      <td>0.198423</td>\n",
       "      <td>0.906463</td>\n",
       "      <td>1.787116</td>\n",
       "      <td>2.377666</td>\n",
       "      <td>4.054737</td>\n",
       "      <td>0.340312</td>\n",
       "      <td>0.420976</td>\n",
       "      <td>0.361690</td>\n",
       "    </tr>\n",
       "    <tr>\n",
       "      <th>min</th>\n",
       "      <td>0.000000</td>\n",
       "      <td>0.000000</td>\n",
       "      <td>0.000000</td>\n",
       "      <td>0.000000</td>\n",
       "      <td>0.000000</td>\n",
       "      <td>0.000000</td>\n",
       "      <td>0.000000</td>\n",
       "      <td>0.000000</td>\n",
       "      <td>0.000000</td>\n",
       "      <td>0.000000</td>\n",
       "      <td>1.000000</td>\n",
       "      <td>1.000000</td>\n",
       "      <td>1.000000</td>\n",
       "      <td>1.000000</td>\n",
       "      <td>0.000000</td>\n",
       "      <td>0.000000</td>\n",
       "      <td>0.000000</td>\n",
       "    </tr>\n",
       "    <tr>\n",
       "      <th>25%</th>\n",
       "      <td>0.000000</td>\n",
       "      <td>0.000000</td>\n",
       "      <td>0.000000</td>\n",
       "      <td>0.000000</td>\n",
       "      <td>7.000000</td>\n",
       "      <td>191.000000</td>\n",
       "      <td>0.000000</td>\n",
       "      <td>0.014196</td>\n",
       "      <td>0.000000</td>\n",
       "      <td>0.000000</td>\n",
       "      <td>2.000000</td>\n",
       "      <td>2.000000</td>\n",
       "      <td>1.000000</td>\n",
       "      <td>2.000000</td>\n",
       "      <td>0.000000</td>\n",
       "      <td>0.000000</td>\n",
       "      <td>0.000000</td>\n",
       "    </tr>\n",
       "    <tr>\n",
       "      <th>50%</th>\n",
       "      <td>1.000000</td>\n",
       "      <td>7.600000</td>\n",
       "      <td>0.000000</td>\n",
       "      <td>0.000000</td>\n",
       "      <td>18.000000</td>\n",
       "      <td>608.883333</td>\n",
       "      <td>0.003188</td>\n",
       "      <td>0.025492</td>\n",
       "      <td>0.000000</td>\n",
       "      <td>0.000000</td>\n",
       "      <td>2.000000</td>\n",
       "      <td>2.000000</td>\n",
       "      <td>3.000000</td>\n",
       "      <td>2.000000</td>\n",
       "      <td>0.000000</td>\n",
       "      <td>0.000000</td>\n",
       "      <td>0.000000</td>\n",
       "    </tr>\n",
       "    <tr>\n",
       "      <th>75%</th>\n",
       "      <td>4.000000</td>\n",
       "      <td>93.300000</td>\n",
       "      <td>0.000000</td>\n",
       "      <td>0.000000</td>\n",
       "      <td>38.000000</td>\n",
       "      <td>1503.250000</td>\n",
       "      <td>0.016667</td>\n",
       "      <td>0.050000</td>\n",
       "      <td>0.000000</td>\n",
       "      <td>0.000000</td>\n",
       "      <td>3.000000</td>\n",
       "      <td>2.000000</td>\n",
       "      <td>4.000000</td>\n",
       "      <td>4.000000</td>\n",
       "      <td>0.000000</td>\n",
       "      <td>0.000000</td>\n",
       "      <td>0.000000</td>\n",
       "    </tr>\n",
       "    <tr>\n",
       "      <th>max</th>\n",
       "      <td>27.000000</td>\n",
       "      <td>2720.500000</td>\n",
       "      <td>16.000000</td>\n",
       "      <td>2256.916667</td>\n",
       "      <td>686.000000</td>\n",
       "      <td>24844.156200</td>\n",
       "      <td>0.200000</td>\n",
       "      <td>0.200000</td>\n",
       "      <td>360.953384</td>\n",
       "      <td>1.000000</td>\n",
       "      <td>8.000000</td>\n",
       "      <td>13.000000</td>\n",
       "      <td>9.000000</td>\n",
       "      <td>20.000000</td>\n",
       "      <td>1.000000</td>\n",
       "      <td>1.000000</td>\n",
       "      <td>1.000000</td>\n",
       "    </tr>\n",
       "  </tbody>\n",
       "</table>\n",
       "</div>"
      ],
      "text/plain": [
       "       admin_pages  admin_seconds   info_pages  info_seconds  product_pages  \\\n",
       "count  6165.000000    6165.000000  6165.000000   6165.000000    6165.000000   \n",
       "mean      2.335280      80.852833     0.507867     33.280329      32.408273   \n",
       "std       3.356446     175.414952     1.272868    134.065358      45.243435   \n",
       "min       0.000000       0.000000     0.000000      0.000000       0.000000   \n",
       "25%       0.000000       0.000000     0.000000      0.000000       7.000000   \n",
       "50%       1.000000       7.600000     0.000000      0.000000      18.000000   \n",
       "75%       4.000000      93.300000     0.000000      0.000000      38.000000   \n",
       "max      27.000000    2720.500000    16.000000   2256.916667     686.000000   \n",
       "\n",
       "       product_seconds  bounce_rate    quit_rate   page_value   is_holiday  \\\n",
       "count      6165.000000  6165.000000  6165.000000  6165.000000  6165.000000   \n",
       "mean       1208.587423     0.021689     0.042682     5.937796     0.060697   \n",
       "std        1810.567652     0.047605     0.047973    18.211659     0.198423   \n",
       "min           0.000000     0.000000     0.000000     0.000000     0.000000   \n",
       "25%         191.000000     0.000000     0.014196     0.000000     0.000000   \n",
       "50%         608.883333     0.003188     0.025492     0.000000     0.000000   \n",
       "75%        1503.250000     0.016667     0.050000     0.000000     0.000000   \n",
       "max       24844.156200     0.200000     0.200000   360.953384     1.000000   \n",
       "\n",
       "       operating_system_id   browser_id    region_id  traffic_type_id  \\\n",
       "count          6165.000000  6165.000000  6165.000000      6165.000000   \n",
       "mean              2.122952     2.392863     3.086456         4.074615   \n",
       "std               0.906463     1.787116     2.377666         4.054737   \n",
       "min               1.000000     1.000000     1.000000         1.000000   \n",
       "25%               2.000000     2.000000     1.000000         2.000000   \n",
       "50%               2.000000     2.000000     3.000000         2.000000   \n",
       "75%               3.000000     2.000000     4.000000         4.000000   \n",
       "max               8.000000    13.000000     9.000000        20.000000   \n",
       "\n",
       "       is_new_visitor   is_weekend  has_purchase  \n",
       "count     6165.000000  6165.000000   6165.000000  \n",
       "mean         0.133658     0.230170      0.154745  \n",
       "std          0.340312     0.420976      0.361690  \n",
       "min          0.000000     0.000000      0.000000  \n",
       "25%          0.000000     0.000000      0.000000  \n",
       "50%          0.000000     0.000000      0.000000  \n",
       "75%          0.000000     0.000000      0.000000  \n",
       "max          1.000000     1.000000      1.000000  "
      ]
     },
     "execution_count": 3,
     "metadata": {},
     "output_type": "execute_result"
    }
   ],
   "source": [
    "train_df.describe() # Look at general data distributions, size, and noise."
   ]
  },
  {
   "cell_type": "code",
   "execution_count": 4,
   "metadata": {},
   "outputs": [
    {
     "data": {
      "text/html": [
       "<div>\n",
       "<style scoped>\n",
       "    .dataframe tbody tr th:only-of-type {\n",
       "        vertical-align: middle;\n",
       "    }\n",
       "\n",
       "    .dataframe tbody tr th {\n",
       "        vertical-align: top;\n",
       "    }\n",
       "\n",
       "    .dataframe thead th {\n",
       "        text-align: right;\n",
       "    }\n",
       "</style>\n",
       "<table border=\"1\" class=\"dataframe\">\n",
       "  <thead>\n",
       "    <tr style=\"text-align: right;\">\n",
       "      <th></th>\n",
       "      <th>admin_pages</th>\n",
       "      <th>admin_seconds</th>\n",
       "      <th>info_pages</th>\n",
       "      <th>info_seconds</th>\n",
       "      <th>product_pages</th>\n",
       "      <th>product_seconds</th>\n",
       "      <th>bounce_rate</th>\n",
       "      <th>quit_rate</th>\n",
       "      <th>page_value</th>\n",
       "      <th>is_holiday</th>\n",
       "      <th>month</th>\n",
       "      <th>operating_system_id</th>\n",
       "      <th>browser_id</th>\n",
       "      <th>region_id</th>\n",
       "      <th>traffic_type_id</th>\n",
       "      <th>is_new_visitor</th>\n",
       "      <th>is_weekend</th>\n",
       "      <th>has_purchase</th>\n",
       "    </tr>\n",
       "  </thead>\n",
       "  <tbody>\n",
       "    <tr>\n",
       "      <th>0</th>\n",
       "      <td>0</td>\n",
       "      <td>0.000000</td>\n",
       "      <td>0</td>\n",
       "      <td>0.0</td>\n",
       "      <td>8</td>\n",
       "      <td>335.000000</td>\n",
       "      <td>0.025000</td>\n",
       "      <td>0.050000</td>\n",
       "      <td>63.891</td>\n",
       "      <td>0.0</td>\n",
       "      <td>May</td>\n",
       "      <td>3</td>\n",
       "      <td>2</td>\n",
       "      <td>4</td>\n",
       "      <td>1</td>\n",
       "      <td>0</td>\n",
       "      <td>0</td>\n",
       "      <td>1</td>\n",
       "    </tr>\n",
       "    <tr>\n",
       "      <th>1</th>\n",
       "      <td>2</td>\n",
       "      <td>54.500000</td>\n",
       "      <td>4</td>\n",
       "      <td>29.5</td>\n",
       "      <td>11</td>\n",
       "      <td>1055.750000</td>\n",
       "      <td>0.000000</td>\n",
       "      <td>0.026667</td>\n",
       "      <td>0.000</td>\n",
       "      <td>0.0</td>\n",
       "      <td>Dec</td>\n",
       "      <td>2</td>\n",
       "      <td>2</td>\n",
       "      <td>1</td>\n",
       "      <td>2</td>\n",
       "      <td>1</td>\n",
       "      <td>0</td>\n",
       "      <td>0</td>\n",
       "    </tr>\n",
       "    <tr>\n",
       "      <th>2</th>\n",
       "      <td>4</td>\n",
       "      <td>72.000000</td>\n",
       "      <td>0</td>\n",
       "      <td>0.0</td>\n",
       "      <td>4</td>\n",
       "      <td>46.500000</td>\n",
       "      <td>0.040000</td>\n",
       "      <td>0.060000</td>\n",
       "      <td>0.000</td>\n",
       "      <td>0.0</td>\n",
       "      <td>Nov</td>\n",
       "      <td>3</td>\n",
       "      <td>2</td>\n",
       "      <td>2</td>\n",
       "      <td>3</td>\n",
       "      <td>0</td>\n",
       "      <td>0</td>\n",
       "      <td>0</td>\n",
       "    </tr>\n",
       "    <tr>\n",
       "      <th>3</th>\n",
       "      <td>3</td>\n",
       "      <td>23.166667</td>\n",
       "      <td>0</td>\n",
       "      <td>0.0</td>\n",
       "      <td>12</td>\n",
       "      <td>122.225000</td>\n",
       "      <td>0.000000</td>\n",
       "      <td>0.014286</td>\n",
       "      <td>0.000</td>\n",
       "      <td>0.0</td>\n",
       "      <td>Dec</td>\n",
       "      <td>2</td>\n",
       "      <td>2</td>\n",
       "      <td>9</td>\n",
       "      <td>2</td>\n",
       "      <td>1</td>\n",
       "      <td>1</td>\n",
       "      <td>0</td>\n",
       "    </tr>\n",
       "    <tr>\n",
       "      <th>4</th>\n",
       "      <td>12</td>\n",
       "      <td>356.125000</td>\n",
       "      <td>0</td>\n",
       "      <td>0.0</td>\n",
       "      <td>44</td>\n",
       "      <td>2187.338725</td>\n",
       "      <td>0.005102</td>\n",
       "      <td>0.029042</td>\n",
       "      <td>0.000</td>\n",
       "      <td>0.0</td>\n",
       "      <td>Dec</td>\n",
       "      <td>1</td>\n",
       "      <td>1</td>\n",
       "      <td>8</td>\n",
       "      <td>1</td>\n",
       "      <td>0</td>\n",
       "      <td>0</td>\n",
       "      <td>0</td>\n",
       "    </tr>\n",
       "  </tbody>\n",
       "</table>\n",
       "</div>"
      ],
      "text/plain": [
       "   admin_pages  admin_seconds  info_pages  info_seconds  product_pages  \\\n",
       "0            0       0.000000           0           0.0              8   \n",
       "1            2      54.500000           4          29.5             11   \n",
       "2            4      72.000000           0           0.0              4   \n",
       "3            3      23.166667           0           0.0             12   \n",
       "4           12     356.125000           0           0.0             44   \n",
       "\n",
       "   product_seconds  bounce_rate  quit_rate  page_value  is_holiday month  \\\n",
       "0       335.000000     0.025000   0.050000      63.891         0.0   May   \n",
       "1      1055.750000     0.000000   0.026667       0.000         0.0   Dec   \n",
       "2        46.500000     0.040000   0.060000       0.000         0.0   Nov   \n",
       "3       122.225000     0.000000   0.014286       0.000         0.0   Dec   \n",
       "4      2187.338725     0.005102   0.029042       0.000         0.0   Dec   \n",
       "\n",
       "   operating_system_id  browser_id  region_id  traffic_type_id  \\\n",
       "0                    3           2          4                1   \n",
       "1                    2           2          1                2   \n",
       "2                    3           2          2                3   \n",
       "3                    2           2          9                2   \n",
       "4                    1           1          8                1   \n",
       "\n",
       "   is_new_visitor  is_weekend  has_purchase  \n",
       "0               0           0             1  \n",
       "1               1           0             0  \n",
       "2               0           0             0  \n",
       "3               1           1             0  \n",
       "4               0           0             0  "
      ]
     },
     "execution_count": 4,
     "metadata": {},
     "output_type": "execute_result"
    }
   ],
   "source": [
    "train_df.head()"
   ]
  },
  {
   "attachments": {},
   "cell_type": "markdown",
   "metadata": {},
   "source": [
    "Our target variable will be `has_purchase`.  This is of course heavily skewed as most users will not purchase anything, and in this case it appears that about 15.5% of users made purchases (we can use the mean because it is a binary variable).  Thus, our target accuracy will be >84.5%, which is what a model could achieve by simply predicting 0 (no purchase) for eveything.  I will also be utilizing Ensemble methods for my classifier, as they are more resistant to skew and overfitting by wieghting their internal models.  In particular, I will use the `XGBClassifier` class from `xgboost`."
   ]
  },
  {
   "cell_type": "code",
   "execution_count": 5,
   "metadata": {},
   "outputs": [
    {
     "data": {
      "text/plain": [
       "(0    0.845339\n",
       " 1    0.154661\n",
       " Name: has_purchase, dtype: float64,\n",
       " 0    0.845006\n",
       " 1    0.154994\n",
       " Name: has_purchase, dtype: float64)"
      ]
     },
     "execution_count": 5,
     "metadata": {},
     "output_type": "execute_result"
    }
   ],
   "source": [
    "from sklearn.model_selection import train_test_split\n",
    "\n",
    "X = train_df.drop(\"has_purchase\", axis=1)\n",
    "y = train_df.has_purchase\n",
    "\n",
    "X_train, X_valid, y_train, y_valid = train_test_split(X, y, stratify=y, random_state=69)\n",
    "\n",
    "y_train.value_counts(normalize=True), y_valid.value_counts(normalize=True)"
   ]
  },
  {
   "attachments": {},
   "cell_type": "markdown",
   "metadata": {},
   "source": [
    "`month` is a string value representing the month.  I will transform this to a continuous integer column with a custom `FunctionTransformer` so the classifiers can interpret it.  I am making it continuous rather than categorical because there is an inherent order to the months of the year."
   ]
  },
  {
   "cell_type": "code",
   "execution_count": 6,
   "metadata": {},
   "outputs": [],
   "source": [
    "from sklearn.preprocessing import FunctionTransformer\n",
    "\n",
    "\n",
    "month_dict = {\"jan\": 1, \"feb\": 2, \"mar\": 3, \"apr\": 4, \"may\": 5, \"jun\": 6,\"jul\": 7, \"aug\": 8, \"sep\": 9, \"oct\": 10, \"nov\": 11, \"dec\": 12}\n",
    "\n",
    "\n",
    "def month_to_int(_X):\n",
    "    _X = _X.copy()\n",
    "    _X.month = _X.month.apply(str.lower).map(month_dict)\n",
    "    return _X\n",
    "\n",
    "month_transformer = FunctionTransformer(month_to_int)"
   ]
  },
  {
   "attachments": {},
   "cell_type": "markdown",
   "metadata": {},
   "source": [
    "As the data is also not on the same scale, I will scale it using the `StandardScaler`.  This will also help to reduce some of the noise in the data.  I will also create a pipeline that transforms the month variable, scales the data, and then fits to the xgb classifier to make the code more conscise and changes more clear."
   ]
  },
  {
   "cell_type": "code",
   "execution_count": 7,
   "metadata": {},
   "outputs": [],
   "source": [
    "from sklearn.pipeline import Pipeline\n",
    "from sklearn.preprocessing import StandardScaler\n",
    "from xgboost import XGBClassifier\n",
    "\n",
    "steps = [\n",
    "    (\"month_trans\", month_transformer),\n",
    "    (\"scaler\", StandardScaler()),\n",
    "    (\"xgboost\", XGBClassifier())\n",
    "]\n",
    "\n",
    "pipe = Pipeline(steps)"
   ]
  },
  {
   "cell_type": "code",
   "execution_count": 8,
   "metadata": {},
   "outputs": [
    {
     "data": {
      "text/html": [
       "<style>#sk-container-id-1 {color: black;background-color: white;}#sk-container-id-1 pre{padding: 0;}#sk-container-id-1 div.sk-toggleable {background-color: white;}#sk-container-id-1 label.sk-toggleable__label {cursor: pointer;display: block;width: 100%;margin-bottom: 0;padding: 0.3em;box-sizing: border-box;text-align: center;}#sk-container-id-1 label.sk-toggleable__label-arrow:before {content: \"▸\";float: left;margin-right: 0.25em;color: #696969;}#sk-container-id-1 label.sk-toggleable__label-arrow:hover:before {color: black;}#sk-container-id-1 div.sk-estimator:hover label.sk-toggleable__label-arrow:before {color: black;}#sk-container-id-1 div.sk-toggleable__content {max-height: 0;max-width: 0;overflow: hidden;text-align: left;background-color: #f0f8ff;}#sk-container-id-1 div.sk-toggleable__content pre {margin: 0.2em;color: black;border-radius: 0.25em;background-color: #f0f8ff;}#sk-container-id-1 input.sk-toggleable__control:checked~div.sk-toggleable__content {max-height: 200px;max-width: 100%;overflow: auto;}#sk-container-id-1 input.sk-toggleable__control:checked~label.sk-toggleable__label-arrow:before {content: \"▾\";}#sk-container-id-1 div.sk-estimator input.sk-toggleable__control:checked~label.sk-toggleable__label {background-color: #d4ebff;}#sk-container-id-1 div.sk-label input.sk-toggleable__control:checked~label.sk-toggleable__label {background-color: #d4ebff;}#sk-container-id-1 input.sk-hidden--visually {border: 0;clip: rect(1px 1px 1px 1px);clip: rect(1px, 1px, 1px, 1px);height: 1px;margin: -1px;overflow: hidden;padding: 0;position: absolute;width: 1px;}#sk-container-id-1 div.sk-estimator {font-family: monospace;background-color: #f0f8ff;border: 1px dotted black;border-radius: 0.25em;box-sizing: border-box;margin-bottom: 0.5em;}#sk-container-id-1 div.sk-estimator:hover {background-color: #d4ebff;}#sk-container-id-1 div.sk-parallel-item::after {content: \"\";width: 100%;border-bottom: 1px solid gray;flex-grow: 1;}#sk-container-id-1 div.sk-label:hover label.sk-toggleable__label {background-color: #d4ebff;}#sk-container-id-1 div.sk-serial::before {content: \"\";position: absolute;border-left: 1px solid gray;box-sizing: border-box;top: 0;bottom: 0;left: 50%;z-index: 0;}#sk-container-id-1 div.sk-serial {display: flex;flex-direction: column;align-items: center;background-color: white;padding-right: 0.2em;padding-left: 0.2em;position: relative;}#sk-container-id-1 div.sk-item {position: relative;z-index: 1;}#sk-container-id-1 div.sk-parallel {display: flex;align-items: stretch;justify-content: center;background-color: white;position: relative;}#sk-container-id-1 div.sk-item::before, #sk-container-id-1 div.sk-parallel-item::before {content: \"\";position: absolute;border-left: 1px solid gray;box-sizing: border-box;top: 0;bottom: 0;left: 50%;z-index: -1;}#sk-container-id-1 div.sk-parallel-item {display: flex;flex-direction: column;z-index: 1;position: relative;background-color: white;}#sk-container-id-1 div.sk-parallel-item:first-child::after {align-self: flex-end;width: 50%;}#sk-container-id-1 div.sk-parallel-item:last-child::after {align-self: flex-start;width: 50%;}#sk-container-id-1 div.sk-parallel-item:only-child::after {width: 0;}#sk-container-id-1 div.sk-dashed-wrapped {border: 1px dashed gray;margin: 0 0.4em 0.5em 0.4em;box-sizing: border-box;padding-bottom: 0.4em;background-color: white;}#sk-container-id-1 div.sk-label label {font-family: monospace;font-weight: bold;display: inline-block;line-height: 1.2em;}#sk-container-id-1 div.sk-label-container {text-align: center;}#sk-container-id-1 div.sk-container {/* jupyter's `normalize.less` sets `[hidden] { display: none; }` but bootstrap.min.css set `[hidden] { display: none !important; }` so we also need the `!important` here to be able to override the default hidden behavior on the sphinx rendered scikit-learn.org. See: https://github.com/scikit-learn/scikit-learn/issues/21755 */display: inline-block !important;position: relative;}#sk-container-id-1 div.sk-text-repr-fallback {display: none;}</style><div id=\"sk-container-id-1\" class=\"sk-top-container\"><div class=\"sk-text-repr-fallback\"><pre>Pipeline(steps=[(&#x27;month_trans&#x27;,\n",
       "                 FunctionTransformer(func=&lt;function month_to_int at 0x1338f7e20&gt;)),\n",
       "                (&#x27;scaler&#x27;, StandardScaler()),\n",
       "                (&#x27;xgboost&#x27;,\n",
       "                 XGBClassifier(base_score=None, booster=None, callbacks=None,\n",
       "                               colsample_bylevel=None, colsample_bynode=None,\n",
       "                               colsample_bytree=None,\n",
       "                               early_stopping_rounds=None,\n",
       "                               enable_categorical=False, eval_metric=None,\n",
       "                               feature_types=None, gamm...e,\n",
       "                               grow_policy=None, importance_type=None,\n",
       "                               interaction_constraints=None, learning_rate=None,\n",
       "                               max_bin=None, max_cat_threshold=None,\n",
       "                               max_cat_to_onehot=None, max_delta_step=None,\n",
       "                               max_depth=None, max_leaves=None,\n",
       "                               min_child_weight=None, missing=nan,\n",
       "                               monotone_constraints=None, n_estimators=100,\n",
       "                               n_jobs=None, num_parallel_tree=None,\n",
       "                               predictor=None, random_state=None, ...))])</pre><b>In a Jupyter environment, please rerun this cell to show the HTML representation or trust the notebook. <br />On GitHub, the HTML representation is unable to render, please try loading this page with nbviewer.org.</b></div><div class=\"sk-container\" hidden><div class=\"sk-item sk-dashed-wrapped\"><div class=\"sk-label-container\"><div class=\"sk-label sk-toggleable\"><input class=\"sk-toggleable__control sk-hidden--visually\" id=\"sk-estimator-id-1\" type=\"checkbox\" ><label for=\"sk-estimator-id-1\" class=\"sk-toggleable__label sk-toggleable__label-arrow\">Pipeline</label><div class=\"sk-toggleable__content\"><pre>Pipeline(steps=[(&#x27;month_trans&#x27;,\n",
       "                 FunctionTransformer(func=&lt;function month_to_int at 0x1338f7e20&gt;)),\n",
       "                (&#x27;scaler&#x27;, StandardScaler()),\n",
       "                (&#x27;xgboost&#x27;,\n",
       "                 XGBClassifier(base_score=None, booster=None, callbacks=None,\n",
       "                               colsample_bylevel=None, colsample_bynode=None,\n",
       "                               colsample_bytree=None,\n",
       "                               early_stopping_rounds=None,\n",
       "                               enable_categorical=False, eval_metric=None,\n",
       "                               feature_types=None, gamm...e,\n",
       "                               grow_policy=None, importance_type=None,\n",
       "                               interaction_constraints=None, learning_rate=None,\n",
       "                               max_bin=None, max_cat_threshold=None,\n",
       "                               max_cat_to_onehot=None, max_delta_step=None,\n",
       "                               max_depth=None, max_leaves=None,\n",
       "                               min_child_weight=None, missing=nan,\n",
       "                               monotone_constraints=None, n_estimators=100,\n",
       "                               n_jobs=None, num_parallel_tree=None,\n",
       "                               predictor=None, random_state=None, ...))])</pre></div></div></div><div class=\"sk-serial\"><div class=\"sk-item\"><div class=\"sk-estimator sk-toggleable\"><input class=\"sk-toggleable__control sk-hidden--visually\" id=\"sk-estimator-id-2\" type=\"checkbox\" ><label for=\"sk-estimator-id-2\" class=\"sk-toggleable__label sk-toggleable__label-arrow\">FunctionTransformer</label><div class=\"sk-toggleable__content\"><pre>FunctionTransformer(func=&lt;function month_to_int at 0x1338f7e20&gt;)</pre></div></div></div><div class=\"sk-item\"><div class=\"sk-estimator sk-toggleable\"><input class=\"sk-toggleable__control sk-hidden--visually\" id=\"sk-estimator-id-3\" type=\"checkbox\" ><label for=\"sk-estimator-id-3\" class=\"sk-toggleable__label sk-toggleable__label-arrow\">StandardScaler</label><div class=\"sk-toggleable__content\"><pre>StandardScaler()</pre></div></div></div><div class=\"sk-item\"><div class=\"sk-estimator sk-toggleable\"><input class=\"sk-toggleable__control sk-hidden--visually\" id=\"sk-estimator-id-4\" type=\"checkbox\" ><label for=\"sk-estimator-id-4\" class=\"sk-toggleable__label sk-toggleable__label-arrow\">XGBClassifier</label><div class=\"sk-toggleable__content\"><pre>XGBClassifier(base_score=None, booster=None, callbacks=None,\n",
       "              colsample_bylevel=None, colsample_bynode=None,\n",
       "              colsample_bytree=None, early_stopping_rounds=None,\n",
       "              enable_categorical=False, eval_metric=None, feature_types=None,\n",
       "              gamma=None, gpu_id=None, grow_policy=None, importance_type=None,\n",
       "              interaction_constraints=None, learning_rate=None, max_bin=None,\n",
       "              max_cat_threshold=None, max_cat_to_onehot=None,\n",
       "              max_delta_step=None, max_depth=None, max_leaves=None,\n",
       "              min_child_weight=None, missing=nan, monotone_constraints=None,\n",
       "              n_estimators=100, n_jobs=None, num_parallel_tree=None,\n",
       "              predictor=None, random_state=None, ...)</pre></div></div></div></div></div></div></div>"
      ],
      "text/plain": [
       "Pipeline(steps=[('month_trans',\n",
       "                 FunctionTransformer(func=<function month_to_int at 0x1338f7e20>)),\n",
       "                ('scaler', StandardScaler()),\n",
       "                ('xgboost',\n",
       "                 XGBClassifier(base_score=None, booster=None, callbacks=None,\n",
       "                               colsample_bylevel=None, colsample_bynode=None,\n",
       "                               colsample_bytree=None,\n",
       "                               early_stopping_rounds=None,\n",
       "                               enable_categorical=False, eval_metric=None,\n",
       "                               feature_types=None, gamm...e,\n",
       "                               grow_policy=None, importance_type=None,\n",
       "                               interaction_constraints=None, learning_rate=None,\n",
       "                               max_bin=None, max_cat_threshold=None,\n",
       "                               max_cat_to_onehot=None, max_delta_step=None,\n",
       "                               max_depth=None, max_leaves=None,\n",
       "                               min_child_weight=None, missing=nan,\n",
       "                               monotone_constraints=None, n_estimators=100,\n",
       "                               n_jobs=None, num_parallel_tree=None,\n",
       "                               predictor=None, random_state=None, ...))])"
      ]
     },
     "execution_count": 8,
     "metadata": {},
     "output_type": "execute_result"
    }
   ],
   "source": [
    "pipe.fit(X_train, y_train)"
   ]
  },
  {
   "attachments": {},
   "cell_type": "markdown",
   "metadata": {},
   "source": [
    "I make a simple function `analyze_model` that takes a sklearn model or pipeline as an input and prints out some relevant metrics for analyzing model performance.  \n",
    "I have chosen the following markers:  \n",
    "1. **Accuracy** : Mostly to look for overfitting, but also to compare to the benchmark accuracy.\n",
    "2. **F1-Score** : Because target precision and recall are both important for the business case.\n",
    "3. **ROC_AUC** : For a similar reason as using F1, it's insensitive to the imbalance and it's robust to the different costs of false negatives and false positives.\n",
    "4. **Confusion Matrix** : To visualize the the distribution of error types."
   ]
  },
  {
   "cell_type": "code",
   "execution_count": 9,
   "metadata": {},
   "outputs": [
    {
     "name": "stdout",
     "output_type": "stream",
     "text": [
      "Training Acc:  0.9963227341553104\n",
      "Training F1:  0.9879688605803255\n",
      "Training AUC:  0.9881118881118881\n",
      "\n",
      "Validation Acc:  0.8955901426718548\n",
      "Validation F1:  0.6264501160092807\n",
      "Validation AUC:  0.7605541765542665\n"
     ]
    },
    {
     "data": {
      "image/png": "[encoded data removed]",
      "text/plain": [
       "<Figure size 640x480 with 2 Axes>"
      ]
     },
     "metadata": {},
     "output_type": "display_data"
    }
   ],
   "source": [
    "from sklearn.metrics import accuracy_score, f1_score, ConfusionMatrixDisplay, confusion_matrix, roc_auc_score\n",
    "import matplotlib.pyplot as plt\n",
    "\n",
    "def analyze_model(model) -> None:\n",
    "\n",
    "    train_preds = model.predict(X_train)\n",
    "    valid_preds = model.predict(X_valid)\n",
    "\n",
    "    print(\"Training Acc: \", accuracy_score(y_train, train_preds))\n",
    "    print(\"Training F1: \", f1_score(y_train, train_preds))\n",
    "    print(\"Training AUC: \", roc_auc_score(y_train, train_preds))\n",
    "    print()\n",
    "    print(\"Validation Acc: \", accuracy_score(y_valid, valid_preds))\n",
    "    print(\"Validation F1: \", f1_score(y_valid, valid_preds))\n",
    "    print(\"Validation AUC: \", roc_auc_score(y_valid, valid_preds))\n",
    "\n",
    "    disp = ConfusionMatrixDisplay(confusion_matrix=confusion_matrix(y_valid, valid_preds, labels=model.classes_), display_labels=[\"No Purchase\", \"Purchase\"])\n",
    "    disp.plot()\n",
    "    plt.show()\n",
    "\n",
    "analyze_model(pipe)\n"
   ]
  },
  {
   "attachments": {},
   "cell_type": "markdown",
   "metadata": {},
   "source": [
    "Not bad.  We are already outperforming our benchmark of 84.5% Accuracy, but we can do better.  It appears that we are overfitting our data, as we have a near perfect accuracy on out training data and signifficantly lower accuracy on our Validation data (11%), and our F1 and AUC fall drastically in the validation data.  I will tune the pipeline/model hyperparameters to do this, using a grid search cross validation as the dataset is not too large and there are only three hyperparameters I would like to tune.  \n",
    "1 and 2: `n_estimators` (default is 100) and `max_depth` (default is 6) | To reduce overfitting  \n",
    "3: `scale_pos_weight` (default 1) | to balance the weight of the positive class (minority class)  \n",
    "\n",
    "[docs](https://xgboost.readthedocs.io/en/stable/parameter.html)"
   ]
  },
  {
   "cell_type": "code",
   "execution_count": 11,
   "metadata": {},
   "outputs": [
    {
     "data": {
      "text/plain": [
       "{'xgb__max_depth': 2, 'xgb__n_estimators': 50, 'xgb__scale_pos_weight': 1}"
      ]
     },
     "execution_count": 11,
     "metadata": {},
     "output_type": "execute_result"
    }
   ],
   "source": [
    "from sklearn.model_selection import GridSearchCV\n",
    "\n",
    "pipe_2 = Pipeline([\n",
    "    (\"month_transformer\", month_transformer),\n",
    "    (\"scaler\", StandardScaler()),\n",
    "    (\"xgb\", XGBClassifier())\n",
    "])\n",
    "\n",
    "param_grid = {\n",
    "    \"xgb__max_depth\": [2, 3, 5, 6],\n",
    "    \"xgb__n_estimators\" : [50, 75, 100],\n",
    "    \"xgb__scale_pos_weight\" : [1, 2, 3, 5]\n",
    "}\n",
    "\n",
    "grid_search = GridSearchCV(pipe_2, param_grid, cv=5, scoring=\"roc_auc\")\n",
    "grid_search.fit(X_train, y_train)\n",
    "\n",
    "grid_search.best_params_"
   ]
  },
  {
   "attachments": {},
   "cell_type": "markdown",
   "metadata": {},
   "source": [
    "The Grid search revealed that we should decrease our `max_depth` to 2 and our `n_estimators` to 50.  This makes sense as setting both of these parameters too high can lead to high variance and overfitting.  It also said to keep the weight scale at the default value of 1 which is suprising."
   ]
  },
  {
   "cell_type": "code",
   "execution_count": 12,
   "metadata": {},
   "outputs": [
    {
     "name": "stdout",
     "output_type": "stream",
     "text": [
      "Training Acc:  0.9171533636166991\n",
      "Training F1:  0.7037896365042536\n",
      "Training AUC:  0.8024448683353493\n",
      "\n",
      "Validation Acc:  0.8988326848249028\n",
      "Validation F1:  0.6372093023255814\n",
      "Validation AUC:  0.7658894665352246\n"
     ]
    },
    {
     "data": {
      "image/png": "[encoded data removed]",
      "text/plain": [
       "<Figure size 640x480 with 2 Axes>"
      ]
     },
     "metadata": {},
     "output_type": "display_data"
    }
   ],
   "source": [
    "pipe_2 = Pipeline([\n",
    "    (\"month_transformer\", month_transformer),\n",
    "    (\"scaler\", StandardScaler()),\n",
    "    (\"xgb\", XGBClassifier())\n",
    "])\n",
    "\n",
    "pipe_2.set_params(**grid_search.best_params_)   # unpacks the dict object into an array of params\n",
    "\n",
    "pipe_2.fit(X_train, y_train)\n",
    "\n",
    "analyze_model(pipe_2)"
   ]
  },
  {
   "attachments": {},
   "cell_type": "markdown",
   "metadata": {},
   "source": [
    "A Validation accuracy of 90% which is only a 0.4% increase from our baseline model, but our F1 and AUC are also higher and more evenly spread between the training and validation models."
   ]
  },
  {
   "attachments": {},
   "cell_type": "markdown",
   "metadata": {},
   "source": [
    "Here is a simple function that formats the model predictions for Kaggle submission and exports to a provided file."
   ]
  },
  {
   "cell_type": "code",
   "execution_count": 13,
   "metadata": {},
   "outputs": [],
   "source": [
    "final_X = pd.read_csv(\"Data/shop_test.csv\")\n",
    "\n",
    "def create_submission(model, out_file_name:str):\n",
    "    test_preds = model.predict_proba(final_X)[:,1]\n",
    "    sub = pd.DataFrame(test_preds, columns=[\"prediction\"])\n",
    "    sub[\"id\"] = sub.index\n",
    "    sub.to_csv(out_file_name, index=False)\n",
    "\n",
    "create_submission(pipe_2, \"XGB_sub.csv\")"
   ]
  },
  {
   "attachments": {},
   "cell_type": "markdown",
   "metadata": {},
   "source": [
    "The submissions for the Kaggle competition required the predicitons to be in the form of probabilities so they could calculate the ROC as the evaluation metric.  I recieved a final score of 93.45."
   ]
  },
  {
   "attachments": {},
   "cell_type": "markdown",
   "metadata": {},
   "source": [
    "Finally, I wanted to try using the Light GBM classifier from Microsoft, as it tends to outperform XGBoost and is much faster.  I will construct the pipeline the same way as before, substituting the `XGBClassifier` for an `LGBMClassifier`."
   ]
  },
  {
   "cell_type": "code",
   "execution_count": 15,
   "metadata": {},
   "outputs": [
    {
     "name": "stdout",
     "output_type": "stream",
     "text": [
      "Training Acc:  0.9076357343716202\n",
      "Training F1:  0.6671862821512081\n",
      "Training AUC:  0.7813887238656941\n",
      "\n",
      "Validation Acc:  0.896887159533074\n",
      "Validation F1:  0.6223277909738718\n",
      "Validation AUC:  0.7544883548425423\n"
     ]
    },
    {
     "data": {
      "image/png": "[encoded data removed]",
      "text/plain": [
       "<Figure size 640x480 with 2 Axes>"
      ]
     },
     "metadata": {},
     "output_type": "display_data"
    }
   ],
   "source": [
    "# Create baseline lgbm model\n",
    "from lightgbm import LGBMClassifier\n",
    "\n",
    "pipe_3 = Pipeline([\n",
    "    (\"month_transformer\", month_transformer),\n",
    "    (\"scaler\", StandardScaler()),\n",
    "    (\"lgb\", LGBMClassifier())\n",
    "])\n",
    "\n",
    "pipe_3.set_params(**{'lgb__max_depth': 2, 'lgb__n_estimators': 50, 'lgb__scale_pos_weight': 1})\n",
    "\n",
    "pipe_3.fit(X_train, y_train)\n",
    "\n",
    "analyze_model(pipe_3)"
   ]
  },
  {
   "cell_type": "code",
   "execution_count": 16,
   "metadata": {},
   "outputs": [
    {
     "data": {
      "text/plain": [
       "{'lgb__max_depth': 3, 'lgb__n_estimators': 50, 'lgb__scale_pos_weight': 2}"
      ]
     },
     "execution_count": 16,
     "metadata": {},
     "output_type": "execute_result"
    }
   ],
   "source": [
    "# Grid search\n",
    "pipe_3 = Pipeline([\n",
    "    (\"month_transformer\", month_transformer),\n",
    "    (\"scaler\", StandardScaler()),\n",
    "    (\"lgb\", LGBMClassifier())\n",
    "])\n",
    "\n",
    "param_grid = {\n",
    "    \"lgb__max_depth\": [2, 3, 5, 6],\n",
    "    \"lgb__n_estimators\" : [50, 75, 100],\n",
    "    \"lgb__scale_pos_weight\" : [1, 2, 3, 5]\n",
    "}\n",
    "\n",
    "grid_search = GridSearchCV(pipe_3, param_grid, cv=5, scoring=\"roc_auc\")\n",
    "grid_search.fit(X_train, y_train)\n",
    "\n",
    "grid_search.best_params_"
   ]
  },
  {
   "cell_type": "code",
   "execution_count": 17,
   "metadata": {},
   "outputs": [
    {
     "name": "stdout",
     "output_type": "stream",
     "text": [
      "Training Acc:  0.900497512437811\n",
      "Training F1:  0.6981627296587926\n",
      "Training AUC:  0.8365878492029974\n",
      "\n",
      "Validation Acc:  0.8955901426718548\n",
      "Validation F1:  0.6909788867562381\n",
      "Validation AUC:  0.8374285925302729\n"
     ]
    },
    {
     "data": {
      "image/png": "[encoded data removed]",
      "text/plain": [
       "<Figure size 640x480 with 2 Axes>"
      ]
     },
     "metadata": {},
     "output_type": "display_data"
    }
   ],
   "source": [
    "pipe_3 = Pipeline([\n",
    "    (\"month_transformer\", month_transformer),\n",
    "    (\"scaler\", StandardScaler()),\n",
    "    (\"lgb\", LGBMClassifier())\n",
    "])\n",
    "\n",
    "pipe_3.set_params(**grid_search.best_params_)\n",
    "\n",
    "pipe_3.fit(X_train, y_train)\n",
    "\n",
    "analyze_model(pipe_3)"
   ]
  },
  {
   "cell_type": "code",
   "execution_count": 18,
   "metadata": {},
   "outputs": [],
   "source": [
    "test_preds = pipe_3.predict_proba(final_X)[:,1]\n",
    "\n",
    "sub = pd.DataFrame(test_preds, columns=[\"prediction\"])\n",
    "sub[\"id\"] = sub.index\n",
    "sub.to_csv(\"lgbm_submission.csv\", index=False)"
   ]
  },
  {
   "attachments": {},
   "cell_type": "markdown",
   "metadata": {},
   "source": [
    "Though the LGBM model had slightly lower accuracy, it had a significantly higher F1-Score and AUC-ROC, and much lower Type 1 and 2 Errors.  Upon submitting these predictions to Kaggle, I recieved a final score of 93.76."
   ]
  },
  {
   "cell_type": "code",
   "execution_count": 22,
   "metadata": {},
   "outputs": [
    {
     "data": {
      "image/png": "[encoded data removed]",
      "text/plain": [
       "<Figure size 1200x600 with 1 Axes>"
      ]
     },
     "metadata": {},
     "output_type": "display_data"
    }
   ],
   "source": [
    "features = [col.replace(\"_\", \" \").title() for col in X_valid.columns]\n",
    "feature_importance = pipe_3[-1].feature_importances_\n",
    "\n",
    "sorted_idx = np.argsort(feature_importance)\n",
    "fig = plt.figure(figsize=(12, 6))\n",
    "plt.barh(range(len(sorted_idx)), feature_importance[sorted_idx], align='center')\n",
    "plt.yticks(range(len(sorted_idx)), np.array(features)[sorted_idx])\n",
    "plt.title('Feature Importance')\n",
    "plt.show()"
   ]
  },
  {
   "attachments": {},
   "cell_type": "markdown",
   "metadata": {},
   "source": [
    "## Business Use cases\n",
    "Targeted Marketing: The company could use the predictions to target their marketing efforts to users who are most likely to buy a product. For example, they could send personalized email campaigns or display targeted ads to these users.\n",
    "\n",
    "Dynamic Pricing: The company could use the predictions to adjust the prices of products based on a user's likelihood to purchase. For example, they could offer discounts or promotions to users who are less likely to buy a product, or charge more for users who are more likely to buy.\n",
    "\n",
    "Churn Prediction: The company could use the predictions to identify users who are at risk of not buying again and take actions to retain them. For example, they could send personalized emails with special offers or discounts to users who are at risk of not buying.\n",
    "\n",
    "Optimization: The company could use the predictions to optimize their website layout, design, and user experience to increase the likelihood of users buying products."
   ]
  },
  {
   "cell_type": "markdown",
   "metadata": {},
   "source": []
  },
  {
   "cell_type": "markdown",
   "metadata": {},
   "source": []
  }
 ],
 "metadata": {
  "kernelspec": {
   "display_name": "Python 3",
   "language": "python",
   "name": "python3"
  },
  "language_info": {
   "codemirror_mode": {
    "name": "ipython",
    "version": 3
   },
   "file_extension": ".py",
   "mimetype": "text/x-python",
   "name": "python",
   "nbconvert_exporter": "python",
   "pygments_lexer": "ipython3",
   "version": "3.10.9"
  },
  "orig_nbformat": 4,
  "vscode": {
   "interpreter": {
    "hash": "aee8b7b246df8f9039afb4144a1f6fd8d2ca17a180786b69acc140d282b71a49"
   }
  }
 },
 "nbformat": 4,
 "nbformat_minor": 2
}
